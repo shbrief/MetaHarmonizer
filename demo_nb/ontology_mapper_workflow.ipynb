{
 "cells": [
  {
   "cell_type": "code",
   "execution_count": 1,
   "id": "012e2ab8",
   "metadata": {},
   "outputs": [
    {
     "name": "stdout",
     "output_type": "stream",
     "text": [
      "/home/lcc/projects/MetaHarmonizer\n"
     ]
    },
    {
     "name": "stderr",
     "output_type": "stream",
     "text": [
      "/home/lcc/miniconda3/envs/demo_env/lib/python3.10/site-packages/IPython/core/magics/osm.py:417: UserWarning: This is now an optional IPython functionality, setting dhist requires you to install the `pickleshare` library.\n",
      "  self.shell.db['dhist'] = compress_dhist(dhist)[-100:]\n"
     ]
    }
   ],
   "source": [
    "# First, change the working directory to the project root.\n",
    "# Example: %cd /home/your_username/MetaHarmonizer\n",
    "\n",
    "%cd /home/lcc/projects/MetaHarmonizer"
   ]
  },
  {
   "cell_type": "code",
   "execution_count": null,
   "id": "82311ad3",
   "metadata": {},
   "outputs": [],
   "source": [
    "# Required files:\n",
    "# data/corpus/oncotree_code_to_name.csv"
   ]
  },
  {
   "cell_type": "code",
   "execution_count": 2,
   "id": "43cf4b56",
   "metadata": {},
   "outputs": [],
   "source": [
    "# This is required to run asyncio code in Jupyter notebooks.\n",
    "# Jupyter already runs its own event loop, so calling asyncio.run() directly would raise an error.\n",
    "# nest_asyncio.apply() patches the loop to allow nested usage.\n",
    "\n",
    "import nest_asyncio\n",
    "\n",
    "nest_asyncio.apply()"
   ]
  },
  {
   "cell_type": "code",
   "execution_count": 3,
   "id": "f5b39b4c",
   "metadata": {},
   "outputs": [],
   "source": [
    "# Import core modules and ontology mapper implementations\n",
    "\n",
    "import pandas as pd\n",
    "\n",
    "# Import the engine that handles pipeline logic and integrates the mappers\n",
    "from src.Engine import get_ontology_engine\n",
    "\n",
    "OntoMapEngine = get_ontology_engine()"
   ]
  },
  {
   "cell_type": "code",
   "execution_count": 4,
   "id": "9b3ec51a",
   "metadata": {},
   "outputs": [],
   "source": [
    "# Import the CalcStats class for calculating Top1, Top3, and Top5 accuracy\n",
    "\n",
    "from evaluation.calc_stats import CalcStats\n",
    "\n",
    "calc = CalcStats()"
   ]
  },
  {
   "cell_type": "code",
   "execution_count": null,
   "id": "2266c30e",
   "metadata": {},
   "outputs": [
    {
     "name": "stdout",
     "output_type": "stream",
     "text": [
      "[Success] Table 'st_mt_sap_bert_disease' dropped from src/KnowledgeDb/vector_db.sqlite\n",
      "[Success] Index file 'src/KnowledgeDb/faiss_indexes/st_mt-sap-bert_disease.index' deleted.\n"
     ]
    }
   ],
   "source": [
    "# Optional utility: Clean up the FAISS + SQLite vector store\n",
    "# Useful after testing or re-running experiments to avoid stale data\n",
    "# Not required for standard inference or training runs\n",
    "\n",
    "from src.utils.cleanup_vector_store import cleanup_vector_store\n",
    "\n",
    "cleanup_vector_store(\"st\", \"mt-sap-bert\", \"disease\")  # (strategy, model_name, entity_type)"
   ]
  },
  {
   "cell_type": "markdown",
   "id": "9b337b49",
   "metadata": {},
   "source": [
    "DF"
   ]
  },
  {
   "cell_type": "code",
   "execution_count": 5,
   "id": "fa0ee3e0",
   "metadata": {},
   "outputs": [],
   "source": [
    "df = pd.read_csv(\"data/corpus/cbio_disease/disease_query_updated.csv\")\n",
    "large_corpus = pd.read_csv(\n",
    "    'data/corpus/cbio_disease/disease_corpus_updated.csv')\n",
    "\n",
    "query_list = df['original_value'].tolist()\n",
    "small_corpus_list = df['curated_ontology'].tolist() # Small corpus list is made of curated ontology values in the query file\n",
    "large_corpus_list = (\n",
    "    large_corpus[\"official_label\"].tolist()\n",
    "    if \"official_label\" in large_corpus.columns\n",
    "    else large_corpus[\"label\"].tolist()\n",
    ")\n",
    "\n",
    "cura_map = dict(zip(df['original_value'], df['curated_ontology']))"
   ]
  },
  {
   "cell_type": "code",
   "execution_count": 6,
   "id": "e041f396",
   "metadata": {},
   "outputs": [
    {
     "name": "stdout",
     "output_type": "stream",
     "text": [
      "31/10/2025 02:04:37 AM - INFO - OntoMapEngine: Initialized OntoMap Engine\n",
      "31/10/2025 02:04:37 AM - INFO - OntoMapEngine: Stage 1: Exact matching\n",
      "31/10/2025 02:04:37 AM - INFO - OntoMapEngine: Stage 2: ST\n",
      "31/10/2025 02:04:37 AM - INFO - OntoMapEngine: Stage 3: Disabled\n",
      "31/10/2025 02:04:37 AM - INFO - OntoMapEngine: ==================================================\n",
      "31/10/2025 02:04:37 AM - INFO - OntoMapEngine: Starting Ontology Mapping\n",
      "31/10/2025 02:04:37 AM - INFO - OntoMapEngine: ==================================================\n",
      "31/10/2025 02:04:37 AM - INFO - OntoMapEngine: Stage 1: Exact Matching\n",
      "31/10/2025 02:04:37 AM - INFO - OntoMapEngine: Exact matches: 342\n",
      "31/10/2025 02:04:37 AM - INFO - OntoMapEngine: Remaining for Stage 2: 1213\n",
      "31/10/2025 02:04:37 AM - INFO - OntoMapEngine: Stage 2: ST Matching\n",
      "31/10/2025 02:04:37 AM - INFO - OntoMapEngine: Replacing shortNames using rule-based name mapping\n",
      "31/10/2025 02:04:37 AM - INFO - OntoMapEngine: Replaced: ACC → Adrenocortical Carcinoma\n",
      "31/10/2025 02:04:37 AM - INFO - OntoMapEngine: Replaced: ACYC → Adenoid Cystic Carcinoma\n",
      "31/10/2025 02:04:37 AM - INFO - OntoMapEngine: Replaced: AML → Acute Myeloid Leukemia\n",
      "31/10/2025 02:04:37 AM - INFO - OntoMapEngine: Replaced: ANSC → Anal Squamous Cell Carcinoma\n",
      "31/10/2025 02:04:37 AM - INFO - OntoMapEngine: Replaced: APAD → Appendiceal Adenocarcinoma\n",
      "31/10/2025 02:04:37 AM - INFO - OntoMapEngine: Replaced: ASPS → Alveolar Soft Part Sarcoma\n",
      "31/10/2025 02:04:37 AM - INFO - OntoMapEngine: Replaced: ATRT → Atypical Teratoid/Rhabdoid Tumor\n",
      "31/10/2025 02:04:37 AM - INFO - OntoMapEngine: Replaced: BLCA → Bladder Urothelial Carcinoma\n",
      "31/10/2025 02:04:37 AM - INFO - OntoMapEngine: Replaced: BLL → B-Lymphoblastic Leukemia/Lymphoma\n",
      "31/10/2025 02:04:37 AM - INFO - OntoMapEngine: Replaced: BRCA → Invasive Breast Carcinoma\n",
      "31/10/2025 02:04:37 AM - INFO - OntoMapEngine: Replaced: CCOV → Clear Cell Ovarian Cancer\n",
      "31/10/2025 02:04:37 AM - INFO - OntoMapEngine: Replaced: CCRCC → Renal Clear Cell Carcinoma\n",
      "31/10/2025 02:04:37 AM - INFO - OntoMapEngine: Replaced: CESC → Cervical Squamous Cell Carcinoma\n",
      "31/10/2025 02:04:37 AM - INFO - OntoMapEngine: Replaced: CHOL → Cholangiocarcinoma\n",
      "31/10/2025 02:04:37 AM - INFO - OntoMapEngine: Replaced: CML → Chronic Myelogenous Leukemia\n",
      "31/10/2025 02:04:37 AM - INFO - OntoMapEngine: Replaced: CMML → Chronic Myelomonocytic Leukemia\n",
      "31/10/2025 02:04:37 AM - INFO - OntoMapEngine: Replaced: COAD → Colon Adenocarcinoma\n",
      "31/10/2025 02:04:37 AM - INFO - OntoMapEngine: Replaced: CSCC → Cutaneous Squamous Cell Carcinoma\n",
      "31/10/2025 02:04:37 AM - INFO - OntoMapEngine: Replaced: DIPG → Diffuse Intrinsic Pontine Glioma\n",
      "31/10/2025 02:04:37 AM - INFO - OntoMapEngine: Replaced: EMBT → Embryonal Tumor\n",
      "31/10/2025 02:04:37 AM - INFO - OntoMapEngine: Replaced: EPM → Ependymoma\n",
      "31/10/2025 02:04:37 AM - INFO - OntoMapEngine: Replaced: ES → Ewing Sarcoma\n",
      "31/10/2025 02:04:37 AM - INFO - OntoMapEngine: Replaced: ESCA → Esophageal Adenocarcinoma\n",
      "31/10/2025 02:04:37 AM - INFO - OntoMapEngine: Replaced: FL → Follicular Lymphoma\n",
      "31/10/2025 02:04:37 AM - INFO - OntoMapEngine: Replaced: GB → Glioblastoma\n",
      "31/10/2025 02:04:37 AM - INFO - OntoMapEngine: Replaced: GBC → Gallbladder Cancer\n",
      "31/10/2025 02:04:37 AM - INFO - OntoMapEngine: Replaced: GBM → Glioblastoma Multiforme\n",
      "31/10/2025 02:04:37 AM - INFO - OntoMapEngine: Replaced: GINET → Gastrointestinal Neuroendocrine Tumors\n",
      "31/10/2025 02:04:37 AM - INFO - OntoMapEngine: Replaced: GIST → Gastrointestinal Stromal Tumor\n",
      "31/10/2025 02:04:37 AM - INFO - OntoMapEngine: Replaced: HCC → Hepatocellular Carcinoma\n",
      "31/10/2025 02:04:37 AM - INFO - OntoMapEngine: Replaced: HGGNOS → High-Grade Glioma, NOS\n",
      "31/10/2025 02:04:37 AM - INFO - OntoMapEngine: Replaced: HGSOC → High-Grade Serous Ovarian Cancer\n",
      "31/10/2025 02:04:37 AM - INFO - OntoMapEngine: Replaced: HNSC → Head and Neck Squamous Cell Carcinoma\n",
      "31/10/2025 02:04:37 AM - INFO - OntoMapEngine: Replaced: IDC → Breast Invasive Ductal Carcinoma\n",
      "31/10/2025 02:04:37 AM - INFO - OntoMapEngine: Replaced: LGSOC → Low-Grade Serous Ovarian Cancer\n",
      "31/10/2025 02:04:37 AM - INFO - OntoMapEngine: Replaced: LIHB → Hepatoblastoma\n",
      "31/10/2025 02:04:37 AM - INFO - OntoMapEngine: Replaced: LNET → Lung Neuroendocrine Tumor\n",
      "31/10/2025 02:04:37 AM - INFO - OntoMapEngine: Replaced: LUAD → Lung Adenocarcinoma\n",
      "31/10/2025 02:04:37 AM - INFO - OntoMapEngine: Replaced: LUSC → Lung Squamous Cell Carcinoma\n",
      "31/10/2025 02:04:37 AM - INFO - OntoMapEngine: Replaced: MBL → Medulloblastoma\n",
      "31/10/2025 02:04:37 AM - INFO - OntoMapEngine: Replaced: MDS → Myelodysplastic Syndromes\n",
      "31/10/2025 02:04:37 AM - INFO - OntoMapEngine: Replaced: MGUS → Monoclonal Gammopathy of Undetermined Significance\n",
      "31/10/2025 02:04:37 AM - INFO - OntoMapEngine: Replaced: NBL → Neuroblastoma\n",
      "31/10/2025 02:04:37 AM - INFO - OntoMapEngine: Replaced: NHL → Non-Hodgkin Lymphoma\n",
      "31/10/2025 02:04:37 AM - INFO - OntoMapEngine: Replaced: NSCLC → Non-Small Cell Lung Cancer\n",
      "31/10/2025 02:04:37 AM - INFO - OntoMapEngine: Replaced: OS → Osteosarcoma\n",
      "31/10/2025 02:04:37 AM - INFO - OntoMapEngine: Replaced: PAAD → Pancreatic Adenocarcinoma\n",
      "31/10/2025 02:04:37 AM - INFO - OntoMapEngine: Replaced: PANET → Pancreatic Neuroendocrine Tumor\n",
      "31/10/2025 02:04:37 AM - INFO - OntoMapEngine: Replaced: PAST → Pilocytic Astrocytoma\n",
      "31/10/2025 02:04:37 AM - INFO - OntoMapEngine: Replaced: PLMESO → Pleural Mesothelioma\n",
      "31/10/2025 02:04:37 AM - INFO - OntoMapEngine: Replaced: PNET → Primitive Neuroectodermal Tumor\n",
      "31/10/2025 02:04:37 AM - INFO - OntoMapEngine: Replaced: PRAD → Prostate Adenocarcinoma\n",
      "31/10/2025 02:04:37 AM - INFO - OntoMapEngine: Replaced: RBL → Retinoblastoma\n",
      "31/10/2025 02:04:37 AM - INFO - OntoMapEngine: Replaced: READ → Rectal Adenocarcinoma\n",
      "31/10/2025 02:04:37 AM - INFO - OntoMapEngine: Replaced: RMS → Rhabdomyosarcoma\n",
      "31/10/2025 02:04:37 AM - INFO - OntoMapEngine: Replaced: SCLC → Small Cell Lung Cancer\n",
      "31/10/2025 02:04:37 AM - INFO - OntoMapEngine: Replaced: SKCM → Cutaneous Melanoma\n",
      "31/10/2025 02:04:37 AM - INFO - OntoMapEngine: Replaced: STAD → Stomach Adenocarcinoma\n",
      "31/10/2025 02:04:37 AM - INFO - OntoMapEngine: Replaced: TGCT → Tenosynovial Giant Cell Tumor Diffuse Type\n",
      "31/10/2025 02:04:37 AM - INFO - OntoMapEngine: Replaced: THPA → Papillary Thyroid Cancer\n",
      "31/10/2025 02:04:37 AM - INFO - OntoMapEngine: Replaced: THPD → Poorly Differentiated Thyroid Cancer\n",
      "31/10/2025 02:04:37 AM - INFO - OntoMapEngine: Replaced: THYM → Thymoma\n",
      "31/10/2025 02:04:37 AM - INFO - OntoMapEngine: Replaced: TLL → T-Lymphoblastic Leukemia/Lymphoma\n",
      "31/10/2025 02:04:37 AM - INFO - OntoMapEngine: Replaced: UCS → Uterine Carcinosarcoma/Uterine Malignant Mixed Mullerian Tumor\n",
      "31/10/2025 02:04:37 AM - INFO - OntoMapEngine: Replaced: UM → Uveal Melanoma\n",
      "31/10/2025 02:04:37 AM - INFO - OntoMapEngine: Replaced: WT → Wilms' Tumor\n",
      "31/10/2025 02:04:37 AM - INFO - OntoMapST: Initialized OntoMap Sentence Transformer module\n"
     ]
    },
    {
     "name": "stderr",
     "output_type": "stream",
     "text": [
      "No sentence-transformers model found with name model_cache/mt-sap-bert. Creating a new one with mean pooling.\n",
      "No sentence-transformers model found with name cambridgeltl/SapBERT-from-PubMedBERT-fulltext-mean-token. Creating a new one with mean pooling.\n",
      "/home/lcc/miniconda3/envs/demo_env/lib/python3.10/site-packages/torch/nn/modules/module.py:1762: FutureWarning: `encoder_attention_mask` is deprecated and will be removed in version 4.55.0 for `BertSdpaSelfAttention.forward`.\n",
      "  return forward_call(*args, **kwargs)\n"
     ]
    },
    {
     "name": "stdout",
     "output_type": "stream",
     "text": [
      "31/10/2025 02:04:43 AM - INFO - OntoMapEngine: Stage 2 completed: 1213 queries\n",
      "31/10/2025 02:04:43 AM - INFO - OntoMapEngine: Stage 3: Disabled\n",
      "31/10/2025 02:04:43 AM - INFO - OntoMapEngine: FINAL SUMMARY\n",
      "31/10/2025 02:04:43 AM - INFO - OntoMapEngine: Stage 1 (Exact): 342 queries\n",
      "31/10/2025 02:04:43 AM - INFO - OntoMapEngine: Stage 2 (ST): 1213 queries\n"
     ]
    }
   ],
   "source": [
    "# ST Strategy: use default pooling method. LM Strategy: use CLS token pooling method.\n",
    "# Arguments:\n",
    "# - method\n",
    "# - category\n",
    "# - topk: retrieve the top k matches\n",
    "# - query: list of original values to map\n",
    "# - corpus: list of curated ontology values to match against\n",
    "# - cura_map: dictionary mapping original values to curated ontology values\n",
    "# Returns: DF with original values, curated ontology values, match levels, stage, and top k matches with scores\n",
    "\n",
    "other_params = {\"test_or_prod\": \"test\"}\n",
    "onto_engine_large = OntoMapEngine(method='mt-sap-bert',\n",
    "                                      category='disease',\n",
    "                                      topk=5,\n",
    "                                      query=query_list,\n",
    "                                      corpus=large_corpus_list,\n",
    "                                      cura_map=cura_map,\n",
    "                                      s2_strategy=\"st\",\n",
    "                                      s3_strategy=None,\n",
    "                                      **other_params)\n",
    "st_sapbert_disease_top5_result = onto_engine_large.run()"
   ]
  },
  {
   "cell_type": "code",
   "execution_count": 7,
   "id": "04c328ca",
   "metadata": {},
   "outputs": [
    {
     "name": "stdout",
     "output_type": "stream",
     "text": [
      "  Accuracy Level   Accuracy\n",
      "0    Top 1 Match  75.562701\n",
      "1  Top 3 Matches  84.694534\n",
      "2  Top 5 Matches  87.781350\n"
     ]
    }
   ],
   "source": [
    "# Calculate Top1, Top3, and Top5 accuracy for the generated results\n",
    "\n",
    "st_sapbert_accuracy_df = calc.calc_accuracy(st_sapbert_disease_top5_result)\n",
    "print(st_sapbert_accuracy_df)"
   ]
  },
  {
   "cell_type": "code",
   "execution_count": 8,
   "id": "8c3c744b",
   "metadata": {},
   "outputs": [],
   "source": [
    "# Save the results to a CSV file for further analysis or reporting. Optional.\n",
    "\n",
    "st_sapbert_disease_top5_result.to_csv(\n",
    "    \"data/outputs/2025/large_corpus/1024/st_sapbert_disease_top5_result.csv\",\n",
    "    index=False)"
   ]
  },
  {
   "cell_type": "code",
   "execution_count": 8,
   "id": "13abfc6f",
   "metadata": {},
   "outputs": [
    {
     "name": "stdout",
     "output_type": "stream",
     "text": [
      "31/10/2025 02:05:03 AM - INFO - OntoMapEngine: Initialized OntoMap Engine\n",
      "31/10/2025 02:05:03 AM - INFO - OntoMapEngine: Stage 1: Exact matching\n",
      "31/10/2025 02:05:03 AM - INFO - OntoMapEngine: Stage 2: ST\n",
      "31/10/2025 02:05:03 AM - INFO - OntoMapEngine: Stage 3: RAG (threshold=0.9)\n",
      "31/10/2025 02:05:03 AM - INFO - OntoMapEngine: ==================================================\n",
      "31/10/2025 02:05:03 AM - INFO - OntoMapEngine: Starting Ontology Mapping\n",
      "31/10/2025 02:05:03 AM - INFO - OntoMapEngine: ==================================================\n",
      "31/10/2025 02:05:03 AM - INFO - OntoMapEngine: Stage 1: Exact Matching\n",
      "31/10/2025 02:05:03 AM - INFO - OntoMapEngine: Exact matches: 341\n",
      "31/10/2025 02:05:03 AM - INFO - OntoMapEngine: Remaining for Stage 2: 1214\n",
      "31/10/2025 02:05:03 AM - INFO - OntoMapEngine: Stage 2: ST Matching\n",
      "31/10/2025 02:05:03 AM - INFO - OntoMapEngine: Replacing shortNames using rule-based name mapping\n",
      "31/10/2025 02:05:03 AM - INFO - OntoMapEngine: Replaced: ACC → Adrenocortical Carcinoma\n",
      "31/10/2025 02:05:03 AM - INFO - OntoMapEngine: Replaced: ACYC → Adenoid Cystic Carcinoma\n",
      "31/10/2025 02:05:03 AM - INFO - OntoMapEngine: Replaced: AML → Acute Myeloid Leukemia\n",
      "31/10/2025 02:05:03 AM - INFO - OntoMapEngine: Replaced: ANSC → Anal Squamous Cell Carcinoma\n",
      "31/10/2025 02:05:03 AM - INFO - OntoMapEngine: Replaced: APAD → Appendiceal Adenocarcinoma\n",
      "31/10/2025 02:05:03 AM - INFO - OntoMapEngine: Replaced: ASPS → Alveolar Soft Part Sarcoma\n",
      "31/10/2025 02:05:03 AM - INFO - OntoMapEngine: Replaced: ATRT → Atypical Teratoid/Rhabdoid Tumor\n",
      "31/10/2025 02:05:03 AM - INFO - OntoMapEngine: Replaced: BLCA → Bladder Urothelial Carcinoma\n",
      "31/10/2025 02:05:03 AM - INFO - OntoMapEngine: Replaced: BLL → B-Lymphoblastic Leukemia/Lymphoma\n",
      "31/10/2025 02:05:03 AM - INFO - OntoMapEngine: Replaced: BRCA → Invasive Breast Carcinoma\n",
      "31/10/2025 02:05:03 AM - INFO - OntoMapEngine: Replaced: CCOV → Clear Cell Ovarian Cancer\n",
      "31/10/2025 02:05:03 AM - INFO - OntoMapEngine: Replaced: CCRCC → Renal Clear Cell Carcinoma\n",
      "31/10/2025 02:05:03 AM - INFO - OntoMapEngine: Replaced: CESC → Cervical Squamous Cell Carcinoma\n",
      "31/10/2025 02:05:03 AM - INFO - OntoMapEngine: Replaced: CHOL → Cholangiocarcinoma\n",
      "31/10/2025 02:05:03 AM - INFO - OntoMapEngine: Replaced: CML → Chronic Myelogenous Leukemia\n",
      "31/10/2025 02:05:03 AM - INFO - OntoMapEngine: Replaced: CMML → Chronic Myelomonocytic Leukemia\n",
      "31/10/2025 02:05:03 AM - INFO - OntoMapEngine: Replaced: COAD → Colon Adenocarcinoma\n",
      "31/10/2025 02:05:03 AM - INFO - OntoMapEngine: Replaced: CSCC → Cutaneous Squamous Cell Carcinoma\n",
      "31/10/2025 02:05:03 AM - INFO - OntoMapEngine: Replaced: DIPG → Diffuse Intrinsic Pontine Glioma\n",
      "31/10/2025 02:05:03 AM - INFO - OntoMapEngine: Replaced: EMBT → Embryonal Tumor\n",
      "31/10/2025 02:05:03 AM - INFO - OntoMapEngine: Replaced: EPM → Ependymoma\n",
      "31/10/2025 02:05:03 AM - INFO - OntoMapEngine: Replaced: ES → Ewing Sarcoma\n",
      "31/10/2025 02:05:03 AM - INFO - OntoMapEngine: Replaced: ESCA → Esophageal Adenocarcinoma\n",
      "31/10/2025 02:05:03 AM - INFO - OntoMapEngine: Replaced: FL → Follicular Lymphoma\n",
      "31/10/2025 02:05:03 AM - INFO - OntoMapEngine: Replaced: GB → Glioblastoma\n",
      "31/10/2025 02:05:03 AM - INFO - OntoMapEngine: Replaced: GBC → Gallbladder Cancer\n",
      "31/10/2025 02:05:03 AM - INFO - OntoMapEngine: Replaced: GBM → Glioblastoma Multiforme\n",
      "31/10/2025 02:05:03 AM - INFO - OntoMapEngine: Replaced: GINET → Gastrointestinal Neuroendocrine Tumors\n",
      "31/10/2025 02:05:03 AM - INFO - OntoMapEngine: Replaced: GIST → Gastrointestinal Stromal Tumor\n",
      "31/10/2025 02:05:03 AM - INFO - OntoMapEngine: Replaced: HCC → Hepatocellular Carcinoma\n",
      "31/10/2025 02:05:03 AM - INFO - OntoMapEngine: Replaced: HGGNOS → High-Grade Glioma, NOS\n",
      "31/10/2025 02:05:03 AM - INFO - OntoMapEngine: Replaced: HGSOC → High-Grade Serous Ovarian Cancer\n",
      "31/10/2025 02:05:03 AM - INFO - OntoMapEngine: Replaced: HNSC → Head and Neck Squamous Cell Carcinoma\n",
      "31/10/2025 02:05:03 AM - INFO - OntoMapEngine: Replaced: IDC → Breast Invasive Ductal Carcinoma\n",
      "31/10/2025 02:05:03 AM - INFO - OntoMapEngine: Replaced: LGSOC → Low-Grade Serous Ovarian Cancer\n",
      "31/10/2025 02:05:03 AM - INFO - OntoMapEngine: Replaced: LIHB → Hepatoblastoma\n",
      "31/10/2025 02:05:03 AM - INFO - OntoMapEngine: Replaced: LNET → Lung Neuroendocrine Tumor\n",
      "31/10/2025 02:05:03 AM - INFO - OntoMapEngine: Replaced: LUAD → Lung Adenocarcinoma\n",
      "31/10/2025 02:05:03 AM - INFO - OntoMapEngine: Replaced: LUSC → Lung Squamous Cell Carcinoma\n",
      "31/10/2025 02:05:03 AM - INFO - OntoMapEngine: Replaced: MBL → Medulloblastoma\n",
      "31/10/2025 02:05:03 AM - INFO - OntoMapEngine: Replaced: MDS → Myelodysplastic Syndromes\n",
      "31/10/2025 02:05:03 AM - INFO - OntoMapEngine: Replaced: MGUS → Monoclonal Gammopathy of Undetermined Significance\n",
      "31/10/2025 02:05:03 AM - INFO - OntoMapEngine: Replaced: NBL → Neuroblastoma\n",
      "31/10/2025 02:05:03 AM - INFO - OntoMapEngine: Replaced: NHL → Non-Hodgkin Lymphoma\n",
      "31/10/2025 02:05:03 AM - INFO - OntoMapEngine: Replaced: NSCLC → Non-Small Cell Lung Cancer\n",
      "31/10/2025 02:05:03 AM - INFO - OntoMapEngine: Replaced: OS → Osteosarcoma\n",
      "31/10/2025 02:05:03 AM - INFO - OntoMapEngine: Replaced: PAAD → Pancreatic Adenocarcinoma\n",
      "31/10/2025 02:05:03 AM - INFO - OntoMapEngine: Replaced: PANET → Pancreatic Neuroendocrine Tumor\n",
      "31/10/2025 02:05:03 AM - INFO - OntoMapEngine: Replaced: PAST → Pilocytic Astrocytoma\n",
      "31/10/2025 02:05:03 AM - INFO - OntoMapEngine: Replaced: PLMESO → Pleural Mesothelioma\n",
      "31/10/2025 02:05:03 AM - INFO - OntoMapEngine: Replaced: PNET → Primitive Neuroectodermal Tumor\n",
      "31/10/2025 02:05:03 AM - INFO - OntoMapEngine: Replaced: PRAD → Prostate Adenocarcinoma\n",
      "31/10/2025 02:05:03 AM - INFO - OntoMapEngine: Replaced: RBL → Retinoblastoma\n",
      "31/10/2025 02:05:03 AM - INFO - OntoMapEngine: Replaced: READ → Rectal Adenocarcinoma\n",
      "31/10/2025 02:05:03 AM - INFO - OntoMapEngine: Replaced: RMS → Rhabdomyosarcoma\n",
      "31/10/2025 02:05:03 AM - INFO - OntoMapEngine: Replaced: SCLC → Small Cell Lung Cancer\n",
      "31/10/2025 02:05:03 AM - INFO - OntoMapEngine: Replaced: SKCM → Cutaneous Melanoma\n",
      "31/10/2025 02:05:03 AM - INFO - OntoMapEngine: Replaced: STAD → Stomach Adenocarcinoma\n",
      "31/10/2025 02:05:03 AM - INFO - OntoMapEngine: Replaced: TGCT → Tenosynovial Giant Cell Tumor Diffuse Type\n",
      "31/10/2025 02:05:03 AM - INFO - OntoMapEngine: Replaced: THPA → Papillary Thyroid Cancer\n",
      "31/10/2025 02:05:03 AM - INFO - OntoMapEngine: Replaced: THPD → Poorly Differentiated Thyroid Cancer\n",
      "31/10/2025 02:05:03 AM - INFO - OntoMapEngine: Replaced: THYM → Thymoma\n",
      "31/10/2025 02:05:03 AM - INFO - OntoMapEngine: Replaced: TLL → T-Lymphoblastic Leukemia/Lymphoma\n",
      "31/10/2025 02:05:03 AM - INFO - OntoMapEngine: Replaced: UCS → Uterine Carcinosarcoma/Uterine Malignant Mixed Mullerian Tumor\n",
      "31/10/2025 02:05:03 AM - INFO - OntoMapEngine: Replaced: UM → Uveal Melanoma\n",
      "31/10/2025 02:05:03 AM - INFO - OntoMapEngine: Replaced: WT → Wilms' Tumor\n",
      "31/10/2025 02:05:03 AM - INFO - OntoMapST: Initialized OntoMap Sentence Transformer module\n"
     ]
    },
    {
     "name": "stderr",
     "output_type": "stream",
     "text": [
      "/home/lcc/miniconda3/envs/demo_env/lib/python3.10/site-packages/torch/nn/modules/module.py:1762: FutureWarning: `encoder_attention_mask` is deprecated and will be removed in version 4.55.0 for `BertSdpaSelfAttention.forward`.\n",
      "  return forward_call(*args, **kwargs)\n"
     ]
    },
    {
     "name": "stdout",
     "output_type": "stream",
     "text": [
      "31/10/2025 02:05:08 AM - INFO - OntoMapEngine: Stage 2 completed: 1214 queries\n",
      "31/10/2025 02:05:08 AM - INFO - OntoMapEngine: Stage 3: RAG Matching\n",
      "31/10/2025 02:05:08 AM - INFO - OntoMapEngine: S2 result columns: ['original_value', 'updated_value', 'curated_ontology', 'match_level', 'top1_match', 'top1_score', 'top2_match', 'top2_score', 'top3_match', 'top3_score', 'top4_match', 'top4_score', 'top5_match', 'top5_score', 'stage']\n",
      "31/10/2025 02:05:08 AM - INFO - OntoMapEngine: S2 result top1_score dtype: object\n",
      "31/10/2025 02:05:08 AM - INFO - OntoMapEngine: S2 result top1_score unique values (first 10): ['0.9152' '0.9438' '0.8933' '0.9847' '0.9639' '0.9459' '0.9902' '0.9771'\n",
      " '0.9838' '0.9519']\n",
      "31/10/2025 02:05:08 AM - INFO - OntoMapEngine: Queries with top1_score < 0.9: 65\n",
      "31/10/2025 02:05:08 AM - INFO - OntoMapRAG: Initialized OntoMapRAG module\n",
      "31/10/2025 02:05:08 AM - INFO - OntoMapRAG: Generating results table\n"
     ]
    },
    {
     "name": "stderr",
     "output_type": "stream",
     "text": [
      "Processing queries:   0%|          | 0/65 [00:00<?, ?it/s]"
     ]
    },
    {
     "name": "stdout",
     "output_type": "stream",
     "text": [
      "31/10/2025 02:05:09 AM - INFO - FAISSSQLiteSearch: All corpus terms already processed.\n",
      "31/10/2025 02:05:09 AM - INFO - OntoMapRAG: True - Vector store initialized for method=pubmed-bert, category=disease, om_strategy=rag\n"
     ]
    },
    {
     "data": {
      "application/vnd.jupyter.widget-view+json": {
       "model_id": "d5ab0ee00a5a471e97ed4a0dd3fb2e70",
       "version_major": 2,
       "version_minor": 0
      },
      "text/plain": [
       "Batches:   0%|          | 0/1 [00:00<?, ?it/s]"
      ]
     },
     "metadata": {},
     "output_type": "display_data"
    },
    {
     "name": "stderr",
     "output_type": "stream",
     "text": [
      "/home/lcc/miniconda3/envs/demo_env/lib/python3.10/site-packages/torch/nn/modules/module.py:1762: FutureWarning: `encoder_attention_mask` is deprecated and will be removed in version 4.55.0 for `BertSdpaSelfAttention.forward`.\n",
      "  return forward_call(*args, **kwargs)\n",
      "Processing queries:   2%|▏         | 1/65 [00:00<00:21,  3.04it/s]"
     ]
    },
    {
     "data": {
      "application/vnd.jupyter.widget-view+json": {
       "model_id": "d83802a5d8c64a1e8a8958966ff6eba9",
       "version_major": 2,
       "version_minor": 0
      },
      "text/plain": [
       "Batches:   0%|          | 0/1 [00:00<?, ?it/s]"
      ]
     },
     "metadata": {},
     "output_type": "display_data"
    },
    {
     "data": {
      "application/vnd.jupyter.widget-view+json": {
       "model_id": "540963a9a2864fbba5f985ab40434505",
       "version_major": 2,
       "version_minor": 0
      },
      "text/plain": [
       "Batches:   0%|          | 0/1 [00:00<?, ?it/s]"
      ]
     },
     "metadata": {},
     "output_type": "display_data"
    },
    {
     "data": {
      "application/vnd.jupyter.widget-view+json": {
       "model_id": "4b7b9c8eef4947c5a1dec46cc9e6e9e9",
       "version_major": 2,
       "version_minor": 0
      },
      "text/plain": [
       "Batches:   0%|          | 0/1 [00:00<?, ?it/s]"
      ]
     },
     "metadata": {},
     "output_type": "display_data"
    },
    {
     "data": {
      "application/vnd.jupyter.widget-view+json": {
       "model_id": "ebccdc84079f45f08a42b55899ad6ce1",
       "version_major": 2,
       "version_minor": 0
      },
      "text/plain": [
       "Batches:   0%|          | 0/1 [00:00<?, ?it/s]"
      ]
     },
     "metadata": {},
     "output_type": "display_data"
    },
    {
     "name": "stderr",
     "output_type": "stream",
     "text": [
      "Processing queries:   8%|▊         | 5/65 [00:00<00:04, 13.87it/s]"
     ]
    },
    {
     "data": {
      "application/vnd.jupyter.widget-view+json": {
       "model_id": "9842630ef2ed45548790da97969e1bfd",
       "version_major": 2,
       "version_minor": 0
      },
      "text/plain": [
       "Batches:   0%|          | 0/1 [00:00<?, ?it/s]"
      ]
     },
     "metadata": {},
     "output_type": "display_data"
    },
    {
     "data": {
      "application/vnd.jupyter.widget-view+json": {
       "model_id": "35f67268df8d4412abcfb71d489f58fd",
       "version_major": 2,
       "version_minor": 0
      },
      "text/plain": [
       "Batches:   0%|          | 0/1 [00:00<?, ?it/s]"
      ]
     },
     "metadata": {},
     "output_type": "display_data"
    },
    {
     "data": {
      "application/vnd.jupyter.widget-view+json": {
       "model_id": "10f4abc6485140a0b1f1b4ca660dc181",
       "version_major": 2,
       "version_minor": 0
      },
      "text/plain": [
       "Batches:   0%|          | 0/1 [00:00<?, ?it/s]"
      ]
     },
     "metadata": {},
     "output_type": "display_data"
    },
    {
     "data": {
      "application/vnd.jupyter.widget-view+json": {
       "model_id": "1e934cd79ace4cf5b5c4055766391f68",
       "version_major": 2,
       "version_minor": 0
      },
      "text/plain": [
       "Batches:   0%|          | 0/1 [00:00<?, ?it/s]"
      ]
     },
     "metadata": {},
     "output_type": "display_data"
    },
    {
     "name": "stderr",
     "output_type": "stream",
     "text": [
      "Processing queries:  14%|█▍        | 9/65 [00:00<00:02, 21.12it/s]"
     ]
    },
    {
     "data": {
      "application/vnd.jupyter.widget-view+json": {
       "model_id": "cfcd62d192864124959715966035eee0",
       "version_major": 2,
       "version_minor": 0
      },
      "text/plain": [
       "Batches:   0%|          | 0/1 [00:00<?, ?it/s]"
      ]
     },
     "metadata": {},
     "output_type": "display_data"
    },
    {
     "data": {
      "application/vnd.jupyter.widget-view+json": {
       "model_id": "d52a325444d3429e8b13132a2fab2464",
       "version_major": 2,
       "version_minor": 0
      },
      "text/plain": [
       "Batches:   0%|          | 0/1 [00:00<?, ?it/s]"
      ]
     },
     "metadata": {},
     "output_type": "display_data"
    },
    {
     "data": {
      "application/vnd.jupyter.widget-view+json": {
       "model_id": "c74b55f5444a4f48a27660fb5cf893a0",
       "version_major": 2,
       "version_minor": 0
      },
      "text/plain": [
       "Batches:   0%|          | 0/1 [00:00<?, ?it/s]"
      ]
     },
     "metadata": {},
     "output_type": "display_data"
    },
    {
     "data": {
      "application/vnd.jupyter.widget-view+json": {
       "model_id": "f99400b8bff746bd8cbb01472ba027e2",
       "version_major": 2,
       "version_minor": 0
      },
      "text/plain": [
       "Batches:   0%|          | 0/1 [00:00<?, ?it/s]"
      ]
     },
     "metadata": {},
     "output_type": "display_data"
    },
    {
     "name": "stderr",
     "output_type": "stream",
     "text": [
      "Processing queries:  20%|██        | 13/65 [00:00<00:01, 26.34it/s]"
     ]
    },
    {
     "data": {
      "application/vnd.jupyter.widget-view+json": {
       "model_id": "ec1cd7ccc76a49f4b8b247d897fbca4f",
       "version_major": 2,
       "version_minor": 0
      },
      "text/plain": [
       "Batches:   0%|          | 0/1 [00:00<?, ?it/s]"
      ]
     },
     "metadata": {},
     "output_type": "display_data"
    },
    {
     "data": {
      "application/vnd.jupyter.widget-view+json": {
       "model_id": "9dd0c55a5da54bde90fd8359a9571990",
       "version_major": 2,
       "version_minor": 0
      },
      "text/plain": [
       "Batches:   0%|          | 0/1 [00:00<?, ?it/s]"
      ]
     },
     "metadata": {},
     "output_type": "display_data"
    },
    {
     "data": {
      "application/vnd.jupyter.widget-view+json": {
       "model_id": "8d9958e4694f45a8baa8fa93685a7345",
       "version_major": 2,
       "version_minor": 0
      },
      "text/plain": [
       "Batches:   0%|          | 0/1 [00:00<?, ?it/s]"
      ]
     },
     "metadata": {},
     "output_type": "display_data"
    },
    {
     "data": {
      "application/vnd.jupyter.widget-view+json": {
       "model_id": "4410e903137e409aa6d58801105a2af8",
       "version_major": 2,
       "version_minor": 0
      },
      "text/plain": [
       "Batches:   0%|          | 0/1 [00:00<?, ?it/s]"
      ]
     },
     "metadata": {},
     "output_type": "display_data"
    },
    {
     "name": "stderr",
     "output_type": "stream",
     "text": [
      "Processing queries:  26%|██▌       | 17/65 [00:00<00:01, 29.46it/s]"
     ]
    },
    {
     "data": {
      "application/vnd.jupyter.widget-view+json": {
       "model_id": "119fc8a384e64768b093fbe4a4d1403f",
       "version_major": 2,
       "version_minor": 0
      },
      "text/plain": [
       "Batches:   0%|          | 0/1 [00:00<?, ?it/s]"
      ]
     },
     "metadata": {},
     "output_type": "display_data"
    },
    {
     "data": {
      "application/vnd.jupyter.widget-view+json": {
       "model_id": "f08087f19da04ed5ba09026afcc57580",
       "version_major": 2,
       "version_minor": 0
      },
      "text/plain": [
       "Batches:   0%|          | 0/1 [00:00<?, ?it/s]"
      ]
     },
     "metadata": {},
     "output_type": "display_data"
    },
    {
     "data": {
      "application/vnd.jupyter.widget-view+json": {
       "model_id": "bcded19c9b4f4a7a8602249aeb36bd40",
       "version_major": 2,
       "version_minor": 0
      },
      "text/plain": [
       "Batches:   0%|          | 0/1 [00:00<?, ?it/s]"
      ]
     },
     "metadata": {},
     "output_type": "display_data"
    },
    {
     "data": {
      "application/vnd.jupyter.widget-view+json": {
       "model_id": "37a75a5d71a04b4e902b1317db8bec53",
       "version_major": 2,
       "version_minor": 0
      },
      "text/plain": [
       "Batches:   0%|          | 0/1 [00:00<?, ?it/s]"
      ]
     },
     "metadata": {},
     "output_type": "display_data"
    },
    {
     "name": "stderr",
     "output_type": "stream",
     "text": [
      "Processing queries:  32%|███▏      | 21/65 [00:00<00:01, 31.34it/s]"
     ]
    },
    {
     "data": {
      "application/vnd.jupyter.widget-view+json": {
       "model_id": "c56ca9cf83fb49f0859028c8dbfcb865",
       "version_major": 2,
       "version_minor": 0
      },
      "text/plain": [
       "Batches:   0%|          | 0/1 [00:00<?, ?it/s]"
      ]
     },
     "metadata": {},
     "output_type": "display_data"
    },
    {
     "data": {
      "application/vnd.jupyter.widget-view+json": {
       "model_id": "98fee4d8183a45dca90faafb688c1273",
       "version_major": 2,
       "version_minor": 0
      },
      "text/plain": [
       "Batches:   0%|          | 0/1 [00:00<?, ?it/s]"
      ]
     },
     "metadata": {},
     "output_type": "display_data"
    },
    {
     "data": {
      "application/vnd.jupyter.widget-view+json": {
       "model_id": "4640ff456cb0468182e930849a92bf83",
       "version_major": 2,
       "version_minor": 0
      },
      "text/plain": [
       "Batches:   0%|          | 0/1 [00:00<?, ?it/s]"
      ]
     },
     "metadata": {},
     "output_type": "display_data"
    },
    {
     "data": {
      "application/vnd.jupyter.widget-view+json": {
       "model_id": "045b937d834947fc955b9ce803ad3ef6",
       "version_major": 2,
       "version_minor": 0
      },
      "text/plain": [
       "Batches:   0%|          | 0/1 [00:00<?, ?it/s]"
      ]
     },
     "metadata": {},
     "output_type": "display_data"
    },
    {
     "name": "stderr",
     "output_type": "stream",
     "text": [
      "Processing queries:  38%|███▊      | 25/65 [00:00<00:01, 33.20it/s]"
     ]
    },
    {
     "data": {
      "application/vnd.jupyter.widget-view+json": {
       "model_id": "f29ba1979bd84b9eb7142e97a5ac2ef4",
       "version_major": 2,
       "version_minor": 0
      },
      "text/plain": [
       "Batches:   0%|          | 0/1 [00:00<?, ?it/s]"
      ]
     },
     "metadata": {},
     "output_type": "display_data"
    },
    {
     "data": {
      "application/vnd.jupyter.widget-view+json": {
       "model_id": "295bac70ce5e42f987aa3ca81a9ae446",
       "version_major": 2,
       "version_minor": 0
      },
      "text/plain": [
       "Batches:   0%|          | 0/1 [00:00<?, ?it/s]"
      ]
     },
     "metadata": {},
     "output_type": "display_data"
    },
    {
     "data": {
      "application/vnd.jupyter.widget-view+json": {
       "model_id": "a1b05783339f4e2c99a808d1a2178d22",
       "version_major": 2,
       "version_minor": 0
      },
      "text/plain": [
       "Batches:   0%|          | 0/1 [00:00<?, ?it/s]"
      ]
     },
     "metadata": {},
     "output_type": "display_data"
    },
    {
     "data": {
      "application/vnd.jupyter.widget-view+json": {
       "model_id": "e9129e5e34a145de9193d1ffbc994e42",
       "version_major": 2,
       "version_minor": 0
      },
      "text/plain": [
       "Batches:   0%|          | 0/1 [00:00<?, ?it/s]"
      ]
     },
     "metadata": {},
     "output_type": "display_data"
    },
    {
     "name": "stderr",
     "output_type": "stream",
     "text": [
      "Processing queries:  45%|████▍     | 29/65 [00:01<00:01, 33.34it/s]"
     ]
    },
    {
     "data": {
      "application/vnd.jupyter.widget-view+json": {
       "model_id": "7dc1bae6a8f644209af622cffde2f6c4",
       "version_major": 2,
       "version_minor": 0
      },
      "text/plain": [
       "Batches:   0%|          | 0/1 [00:00<?, ?it/s]"
      ]
     },
     "metadata": {},
     "output_type": "display_data"
    },
    {
     "data": {
      "application/vnd.jupyter.widget-view+json": {
       "model_id": "6d0af552cba64af59892bd2398e12533",
       "version_major": 2,
       "version_minor": 0
      },
      "text/plain": [
       "Batches:   0%|          | 0/1 [00:00<?, ?it/s]"
      ]
     },
     "metadata": {},
     "output_type": "display_data"
    },
    {
     "data": {
      "application/vnd.jupyter.widget-view+json": {
       "model_id": "c9ac4770c6264cf889341710779a2f0a",
       "version_major": 2,
       "version_minor": 0
      },
      "text/plain": [
       "Batches:   0%|          | 0/1 [00:00<?, ?it/s]"
      ]
     },
     "metadata": {},
     "output_type": "display_data"
    },
    {
     "data": {
      "application/vnd.jupyter.widget-view+json": {
       "model_id": "51d7f5a7bc5944049c42f17d21046643",
       "version_major": 2,
       "version_minor": 0
      },
      "text/plain": [
       "Batches:   0%|          | 0/1 [00:00<?, ?it/s]"
      ]
     },
     "metadata": {},
     "output_type": "display_data"
    },
    {
     "name": "stderr",
     "output_type": "stream",
     "text": [
      "Processing queries:  51%|█████     | 33/65 [00:01<00:00, 33.98it/s]"
     ]
    },
    {
     "data": {
      "application/vnd.jupyter.widget-view+json": {
       "model_id": "2906b893ac0a4f1896904c49505556d0",
       "version_major": 2,
       "version_minor": 0
      },
      "text/plain": [
       "Batches:   0%|          | 0/1 [00:00<?, ?it/s]"
      ]
     },
     "metadata": {},
     "output_type": "display_data"
    },
    {
     "data": {
      "application/vnd.jupyter.widget-view+json": {
       "model_id": "2acdfe40950443c78523133c74d7de1c",
       "version_major": 2,
       "version_minor": 0
      },
      "text/plain": [
       "Batches:   0%|          | 0/1 [00:00<?, ?it/s]"
      ]
     },
     "metadata": {},
     "output_type": "display_data"
    },
    {
     "data": {
      "application/vnd.jupyter.widget-view+json": {
       "model_id": "3029ab6342cc486184140dba0c9376ea",
       "version_major": 2,
       "version_minor": 0
      },
      "text/plain": [
       "Batches:   0%|          | 0/1 [00:00<?, ?it/s]"
      ]
     },
     "metadata": {},
     "output_type": "display_data"
    },
    {
     "data": {
      "application/vnd.jupyter.widget-view+json": {
       "model_id": "6f93eb664b1948eda06031fdd01b514e",
       "version_major": 2,
       "version_minor": 0
      },
      "text/plain": [
       "Batches:   0%|          | 0/1 [00:00<?, ?it/s]"
      ]
     },
     "metadata": {},
     "output_type": "display_data"
    },
    {
     "name": "stderr",
     "output_type": "stream",
     "text": [
      "Processing queries:  57%|█████▋    | 37/65 [00:01<00:00, 31.58it/s]"
     ]
    },
    {
     "data": {
      "application/vnd.jupyter.widget-view+json": {
       "model_id": "2defb43f64c04547aa6621390112ee52",
       "version_major": 2,
       "version_minor": 0
      },
      "text/plain": [
       "Batches:   0%|          | 0/1 [00:00<?, ?it/s]"
      ]
     },
     "metadata": {},
     "output_type": "display_data"
    },
    {
     "data": {
      "application/vnd.jupyter.widget-view+json": {
       "model_id": "9fafc72a4e5749598db153b85b2dc08f",
       "version_major": 2,
       "version_minor": 0
      },
      "text/plain": [
       "Batches:   0%|          | 0/1 [00:00<?, ?it/s]"
      ]
     },
     "metadata": {},
     "output_type": "display_data"
    },
    {
     "data": {
      "application/vnd.jupyter.widget-view+json": {
       "model_id": "53906f32d6994469904f16b2c951d38c",
       "version_major": 2,
       "version_minor": 0
      },
      "text/plain": [
       "Batches:   0%|          | 0/1 [00:00<?, ?it/s]"
      ]
     },
     "metadata": {},
     "output_type": "display_data"
    },
    {
     "data": {
      "application/vnd.jupyter.widget-view+json": {
       "model_id": "c09e3c8de9ef4f13ac16f5efbb815da6",
       "version_major": 2,
       "version_minor": 0
      },
      "text/plain": [
       "Batches:   0%|          | 0/1 [00:00<?, ?it/s]"
      ]
     },
     "metadata": {},
     "output_type": "display_data"
    },
    {
     "name": "stderr",
     "output_type": "stream",
     "text": [
      "Processing queries:  63%|██████▎   | 41/65 [00:01<00:00, 31.78it/s]"
     ]
    },
    {
     "data": {
      "application/vnd.jupyter.widget-view+json": {
       "model_id": "a7cd9f3eaa564ae88d510128f2f3373f",
       "version_major": 2,
       "version_minor": 0
      },
      "text/plain": [
       "Batches:   0%|          | 0/1 [00:00<?, ?it/s]"
      ]
     },
     "metadata": {},
     "output_type": "display_data"
    },
    {
     "data": {
      "application/vnd.jupyter.widget-view+json": {
       "model_id": "9ad3e2e1b4ae462980a89f6e73b32d64",
       "version_major": 2,
       "version_minor": 0
      },
      "text/plain": [
       "Batches:   0%|          | 0/1 [00:00<?, ?it/s]"
      ]
     },
     "metadata": {},
     "output_type": "display_data"
    },
    {
     "data": {
      "application/vnd.jupyter.widget-view+json": {
       "model_id": "82923ef1a47b49d98bea4cb3cdc63c21",
       "version_major": 2,
       "version_minor": 0
      },
      "text/plain": [
       "Batches:   0%|          | 0/1 [00:00<?, ?it/s]"
      ]
     },
     "metadata": {},
     "output_type": "display_data"
    },
    {
     "data": {
      "application/vnd.jupyter.widget-view+json": {
       "model_id": "30ca31d4ad92436697e6f8700ecdac6f",
       "version_major": 2,
       "version_minor": 0
      },
      "text/plain": [
       "Batches:   0%|          | 0/1 [00:00<?, ?it/s]"
      ]
     },
     "metadata": {},
     "output_type": "display_data"
    },
    {
     "name": "stderr",
     "output_type": "stream",
     "text": [
      "Processing queries:  69%|██████▉   | 45/65 [00:01<00:00, 32.83it/s]"
     ]
    },
    {
     "data": {
      "application/vnd.jupyter.widget-view+json": {
       "model_id": "2d5e07619a744808a02904ec943d4025",
       "version_major": 2,
       "version_minor": 0
      },
      "text/plain": [
       "Batches:   0%|          | 0/1 [00:00<?, ?it/s]"
      ]
     },
     "metadata": {},
     "output_type": "display_data"
    },
    {
     "data": {
      "application/vnd.jupyter.widget-view+json": {
       "model_id": "cc3a3290f6a442ddbe17a7a4b63eef52",
       "version_major": 2,
       "version_minor": 0
      },
      "text/plain": [
       "Batches:   0%|          | 0/1 [00:00<?, ?it/s]"
      ]
     },
     "metadata": {},
     "output_type": "display_data"
    },
    {
     "data": {
      "application/vnd.jupyter.widget-view+json": {
       "model_id": "c33063e96b3a47bea567598d6a993a7c",
       "version_major": 2,
       "version_minor": 0
      },
      "text/plain": [
       "Batches:   0%|          | 0/1 [00:00<?, ?it/s]"
      ]
     },
     "metadata": {},
     "output_type": "display_data"
    },
    {
     "data": {
      "application/vnd.jupyter.widget-view+json": {
       "model_id": "1b4c8767fd67425fa92e7f9a587fa084",
       "version_major": 2,
       "version_minor": 0
      },
      "text/plain": [
       "Batches:   0%|          | 0/1 [00:00<?, ?it/s]"
      ]
     },
     "metadata": {},
     "output_type": "display_data"
    },
    {
     "name": "stderr",
     "output_type": "stream",
     "text": [
      "Processing queries:  75%|███████▌  | 49/65 [00:01<00:00, 33.95it/s]"
     ]
    },
    {
     "data": {
      "application/vnd.jupyter.widget-view+json": {
       "model_id": "bfb402c68fe0439cb57352c8bf3fc832",
       "version_major": 2,
       "version_minor": 0
      },
      "text/plain": [
       "Batches:   0%|          | 0/1 [00:00<?, ?it/s]"
      ]
     },
     "metadata": {},
     "output_type": "display_data"
    },
    {
     "data": {
      "application/vnd.jupyter.widget-view+json": {
       "model_id": "ce9b80276d0949ad81d5281ebc65068f",
       "version_major": 2,
       "version_minor": 0
      },
      "text/plain": [
       "Batches:   0%|          | 0/1 [00:00<?, ?it/s]"
      ]
     },
     "metadata": {},
     "output_type": "display_data"
    },
    {
     "data": {
      "application/vnd.jupyter.widget-view+json": {
       "model_id": "2b1abd4c11ac47fb92e3b5956f00d67d",
       "version_major": 2,
       "version_minor": 0
      },
      "text/plain": [
       "Batches:   0%|          | 0/1 [00:00<?, ?it/s]"
      ]
     },
     "metadata": {},
     "output_type": "display_data"
    },
    {
     "data": {
      "application/vnd.jupyter.widget-view+json": {
       "model_id": "337459150b744ecd8e4530481ceae544",
       "version_major": 2,
       "version_minor": 0
      },
      "text/plain": [
       "Batches:   0%|          | 0/1 [00:00<?, ?it/s]"
      ]
     },
     "metadata": {},
     "output_type": "display_data"
    },
    {
     "name": "stderr",
     "output_type": "stream",
     "text": [
      "Processing queries:  82%|████████▏ | 53/65 [00:01<00:00, 35.28it/s]"
     ]
    },
    {
     "data": {
      "application/vnd.jupyter.widget-view+json": {
       "model_id": "cba22a0df74540d282c0c7c3718cbd68",
       "version_major": 2,
       "version_minor": 0
      },
      "text/plain": [
       "Batches:   0%|          | 0/1 [00:00<?, ?it/s]"
      ]
     },
     "metadata": {},
     "output_type": "display_data"
    },
    {
     "data": {
      "application/vnd.jupyter.widget-view+json": {
       "model_id": "279dbf02e5de4e84bb13dd1c572d633e",
       "version_major": 2,
       "version_minor": 0
      },
      "text/plain": [
       "Batches:   0%|          | 0/1 [00:00<?, ?it/s]"
      ]
     },
     "metadata": {},
     "output_type": "display_data"
    },
    {
     "data": {
      "application/vnd.jupyter.widget-view+json": {
       "model_id": "1c5980f4e397471496e59226e7ece0a1",
       "version_major": 2,
       "version_minor": 0
      },
      "text/plain": [
       "Batches:   0%|          | 0/1 [00:00<?, ?it/s]"
      ]
     },
     "metadata": {},
     "output_type": "display_data"
    },
    {
     "data": {
      "application/vnd.jupyter.widget-view+json": {
       "model_id": "d8993b2aad184430a340079fa4986ef8",
       "version_major": 2,
       "version_minor": 0
      },
      "text/plain": [
       "Batches:   0%|          | 0/1 [00:00<?, ?it/s]"
      ]
     },
     "metadata": {},
     "output_type": "display_data"
    },
    {
     "name": "stderr",
     "output_type": "stream",
     "text": [
      "Processing queries:  88%|████████▊ | 57/65 [00:01<00:00, 35.09it/s]"
     ]
    },
    {
     "data": {
      "application/vnd.jupyter.widget-view+json": {
       "model_id": "e2285de34e36443e8a2b153d25efaecb",
       "version_major": 2,
       "version_minor": 0
      },
      "text/plain": [
       "Batches:   0%|          | 0/1 [00:00<?, ?it/s]"
      ]
     },
     "metadata": {},
     "output_type": "display_data"
    },
    {
     "data": {
      "application/vnd.jupyter.widget-view+json": {
       "model_id": "8adf97f6f43e43afb66e2efc277e6289",
       "version_major": 2,
       "version_minor": 0
      },
      "text/plain": [
       "Batches:   0%|          | 0/1 [00:00<?, ?it/s]"
      ]
     },
     "metadata": {},
     "output_type": "display_data"
    },
    {
     "data": {
      "application/vnd.jupyter.widget-view+json": {
       "model_id": "1016272535354224a2cca8e29bd7fea4",
       "version_major": 2,
       "version_minor": 0
      },
      "text/plain": [
       "Batches:   0%|          | 0/1 [00:00<?, ?it/s]"
      ]
     },
     "metadata": {},
     "output_type": "display_data"
    },
    {
     "data": {
      "application/vnd.jupyter.widget-view+json": {
       "model_id": "2ac6fe6e776f49679ea69309f3ecc078",
       "version_major": 2,
       "version_minor": 0
      },
      "text/plain": [
       "Batches:   0%|          | 0/1 [00:00<?, ?it/s]"
      ]
     },
     "metadata": {},
     "output_type": "display_data"
    },
    {
     "name": "stderr",
     "output_type": "stream",
     "text": [
      "Processing queries:  94%|█████████▍| 61/65 [00:02<00:00, 34.82it/s]"
     ]
    },
    {
     "data": {
      "application/vnd.jupyter.widget-view+json": {
       "model_id": "2239be29083e40069d91847469dc0004",
       "version_major": 2,
       "version_minor": 0
      },
      "text/plain": [
       "Batches:   0%|          | 0/1 [00:00<?, ?it/s]"
      ]
     },
     "metadata": {},
     "output_type": "display_data"
    },
    {
     "data": {
      "application/vnd.jupyter.widget-view+json": {
       "model_id": "efceea92947a45808d41f7e5d69ab1f2",
       "version_major": 2,
       "version_minor": 0
      },
      "text/plain": [
       "Batches:   0%|          | 0/1 [00:00<?, ?it/s]"
      ]
     },
     "metadata": {},
     "output_type": "display_data"
    },
    {
     "data": {
      "application/vnd.jupyter.widget-view+json": {
       "model_id": "4720600bbae34a5ab5737706c992cb75",
       "version_major": 2,
       "version_minor": 0
      },
      "text/plain": [
       "Batches:   0%|          | 0/1 [00:00<?, ?it/s]"
      ]
     },
     "metadata": {},
     "output_type": "display_data"
    },
    {
     "data": {
      "application/vnd.jupyter.widget-view+json": {
       "model_id": "469f8836c2004fe39432efb658d117c2",
       "version_major": 2,
       "version_minor": 0
      },
      "text/plain": [
       "Batches:   0%|          | 0/1 [00:00<?, ?it/s]"
      ]
     },
     "metadata": {},
     "output_type": "display_data"
    },
    {
     "name": "stderr",
     "output_type": "stream",
     "text": [
      "                                                                   "
     ]
    },
    {
     "name": "stdout",
     "output_type": "stream",
     "text": [
      "31/10/2025 02:05:10 AM - INFO - OntoMapRAG: Results Generated\n",
      "31/10/2025 02:05:10 AM - INFO - OntoMapEngine: Stage 3 completed: 65 queries\n",
      "31/10/2025 02:05:10 AM - INFO - OntoMapEngine: ==================================================\n",
      "31/10/2025 02:05:10 AM - INFO - OntoMapEngine: FINAL SUMMARY\n",
      "31/10/2025 02:05:10 AM - INFO - OntoMapEngine: ==================================================\n",
      "31/10/2025 02:05:10 AM - INFO - OntoMapEngine: Stage 1 (Exact): 341 queries\n",
      "31/10/2025 02:05:10 AM - INFO - OntoMapEngine: Stage 2 (ST): 1149 queries\n",
      "31/10/2025 02:05:10 AM - INFO - OntoMapEngine: Stage 3 (RAG): 65 queries\n"
     ]
    },
    {
     "name": "stderr",
     "output_type": "stream",
     "text": [
      "\r"
     ]
    }
   ],
   "source": [
    "# RAG Strategy: Need corpus_df for concept retrieval.\n",
    "# Example: \n",
    "other_params = {\"test_or_prod\": \"test\"}\n",
    "onto_engine_large = OntoMapEngine(method='pubmed-bert',\n",
    "                                      category='disease',\n",
    "                                      topk=5,\n",
    "                                      query=query_list,\n",
    "                                      corpus=large_corpus_list,\n",
    "                                      cura_map=cura_map,\n",
    "                                      corpus_df=large_corpus,\n",
    "                                      s2_strategy=\"st\",\n",
    "                                      s3_strategy=\"rag\",\n",
    "                                      s3_threshold=0.9,\n",
    "                                      **other_params)\n",
    "st_rag_pubmedbert_disease_top5_result = onto_engine_large.run()"
   ]
  },
  {
   "cell_type": "code",
   "execution_count": 9,
   "id": "2cbb5140",
   "metadata": {},
   "outputs": [
    {
     "name": "stdout",
     "output_type": "stream",
     "text": [
      "  Accuracy Level   Accuracy\n",
      "0    Top 1 Match  72.990354\n",
      "1  Top 3 Matches  81.221865\n",
      "2  Top 5 Matches  84.630225\n"
     ]
    }
   ],
   "source": [
    "st_rag_pubmedbert_disease_top5_eval = calc.calc_accuracy(\n",
    "    st_rag_pubmedbert_disease_top5_result)\n",
    "print(st_rag_pubmedbert_disease_top5_eval)"
   ]
  },
  {
   "cell_type": "code",
   "execution_count": 10,
   "id": "cb7bd1f5",
   "metadata": {},
   "outputs": [],
   "source": [
    "st_rag_pubmedbert_disease_top5_result.to_csv(\n",
    "    \"data/outputs/2025/large_corpus/1024/st_rag_pubmedbert_disease_top5_result.csv\",\n",
    "    index=False)"
   ]
  },
  {
   "cell_type": "code",
   "execution_count": 12,
   "id": "4731235a",
   "metadata": {},
   "outputs": [
    {
     "name": "stdout",
     "output_type": "stream",
     "text": [
      "31/10/2025 02:09:14 AM - INFO - OntoMapEngine: Initialized OntoMap Engine\n",
      "31/10/2025 02:09:14 AM - INFO - OntoMapEngine: Stage 1: Exact matching\n",
      "31/10/2025 02:09:14 AM - INFO - OntoMapEngine: Stage 2: ST\n",
      "31/10/2025 02:09:14 AM - INFO - OntoMapEngine: Stage 3: RAG_BIE (threshold=0.95)\n",
      "31/10/2025 02:09:14 AM - INFO - OntoMapEngine: ==================================================\n",
      "31/10/2025 02:09:14 AM - INFO - OntoMapEngine: Starting Ontology Mapping\n",
      "31/10/2025 02:09:14 AM - INFO - OntoMapEngine: ==================================================\n",
      "31/10/2025 02:09:14 AM - INFO - OntoMapEngine: Stage 1: Exact Matching\n",
      "31/10/2025 02:09:14 AM - INFO - OntoMapEngine: Exact matches: 66\n",
      "31/10/2025 02:09:14 AM - INFO - OntoMapEngine: Remaining for Stage 2: 92\n",
      "31/10/2025 02:09:14 AM - INFO - OntoMapEngine: Stage 2: ST Matching\n",
      "31/10/2025 02:09:14 AM - INFO - OntoMapEngine: Replacing shortNames using rule-based name mapping\n",
      "31/10/2025 02:09:14 AM - INFO - OntoMapST: Initialized OntoMap Sentence Transformer module\n"
     ]
    },
    {
     "name": "stderr",
     "output_type": "stream",
     "text": [
      "/home/lcc/miniconda3/envs/demo_env/lib/python3.10/site-packages/torch/nn/modules/module.py:1762: FutureWarning: `encoder_attention_mask` is deprecated and will be removed in version 4.55.0 for `BertSdpaSelfAttention.forward`.\n",
      "  return forward_call(*args, **kwargs)\n"
     ]
    },
    {
     "name": "stdout",
     "output_type": "stream",
     "text": [
      "31/10/2025 02:09:17 AM - INFO - OntoMapEngine: Stage 2 completed: 92 queries\n",
      "31/10/2025 02:09:17 AM - INFO - OntoMapEngine: Stage 3: RAG_BIE Matching\n",
      "31/10/2025 02:09:17 AM - INFO - OntoMapEngine: S2 result columns: ['original_value', 'updated_value', 'curated_ontology', 'match_level', 'top1_match', 'top1_score', 'top2_match', 'top2_score', 'top3_match', 'top3_score', 'top4_match', 'top4_score', 'top5_match', 'top5_score', 'top6_match', 'top6_score', 'top7_match', 'top7_score', 'top8_match', 'top8_score', 'top9_match', 'top9_score', 'top10_match', 'top10_score', 'top11_match', 'top11_score', 'top12_match', 'top12_score', 'top13_match', 'top13_score', 'top14_match', 'top14_score', 'top15_match', 'top15_score', 'top16_match', 'top16_score', 'top17_match', 'top17_score', 'top18_match', 'top18_score', 'top19_match', 'top19_score', 'top20_match', 'top20_score', 'stage']\n",
      "31/10/2025 02:09:17 AM - INFO - OntoMapEngine: S2 result top1_score dtype: object\n",
      "31/10/2025 02:09:17 AM - INFO - OntoMapEngine: S2 result top1_score unique values (first 10): ['0.9939' '0.9725' '0.9609' '0.9639' '0.9292' '0.9795' '0.9233' '0.9977'\n",
      " '0.9781' '0.9461']\n",
      "31/10/2025 02:09:17 AM - INFO - OntoMapEngine: Queries with top1_score < 0.95: 14\n",
      "31/10/2025 02:09:17 AM - INFO - OntoMapBIE: Initialized Bi-Encoder (query with context) module\n",
      "31/10/2025 02:09:17 AM - WARNING - OntoMapBIE: No enriched_query column found. Adding context now.\n"
     ]
    },
    {
     "name": "stderr",
     "output_type": "stream",
     "text": [
      "Adding context to query_df: 100%|██████████| 214/214 [01:03<00:00,  3.38it/s]\n",
      "Processing queries (Bi-Encoder):   0%|          | 0/214 [00:00<?, ?it/s]"
     ]
    },
    {
     "name": "stdout",
     "output_type": "stream",
     "text": [
      "31/10/2025 02:10:20 AM - INFO - FAISSSQLiteSearch: All corpus terms already processed.\n",
      "31/10/2025 02:10:20 AM - INFO - OntoMapBIE: True - Vector store initialized for method=pubmed-bert, category=disease, om_strategy=rag_bie\n"
     ]
    },
    {
     "data": {
      "application/vnd.jupyter.widget-view+json": {
       "model_id": "93a4809ff42641c782ec306246120fcc",
       "version_major": 2,
       "version_minor": 0
      },
      "text/plain": [
       "Batches:   0%|          | 0/1 [00:00<?, ?it/s]"
      ]
     },
     "metadata": {},
     "output_type": "display_data"
    },
    {
     "name": "stderr",
     "output_type": "stream",
     "text": [
      "/home/lcc/miniconda3/envs/demo_env/lib/python3.10/site-packages/torch/nn/modules/module.py:1762: FutureWarning: `encoder_attention_mask` is deprecated and will be removed in version 4.55.0 for `BertSdpaSelfAttention.forward`.\n",
      "  return forward_call(*args, **kwargs)\n",
      "Processing queries (Bi-Encoder):   0%|          | 1/214 [00:00<00:42,  5.04it/s]"
     ]
    },
    {
     "data": {
      "application/vnd.jupyter.widget-view+json": {
       "model_id": "f4e7424539c34107b36e0c31b741f2ba",
       "version_major": 2,
       "version_minor": 0
      },
      "text/plain": [
       "Batches:   0%|          | 0/1 [00:00<?, ?it/s]"
      ]
     },
     "metadata": {},
     "output_type": "display_data"
    },
    {
     "data": {
      "application/vnd.jupyter.widget-view+json": {
       "model_id": "063e6428713b46dcb8c2fb26e90ca3ff",
       "version_major": 2,
       "version_minor": 0
      },
      "text/plain": [
       "Batches:   0%|          | 0/1 [00:00<?, ?it/s]"
      ]
     },
     "metadata": {},
     "output_type": "display_data"
    },
    {
     "name": "stderr",
     "output_type": "stream",
     "text": [
      "Processing queries (Bi-Encoder):   1%|▏         | 3/214 [00:00<00:24,  8.60it/s]"
     ]
    },
    {
     "data": {
      "application/vnd.jupyter.widget-view+json": {
       "model_id": "0b3bf32fc0f643d4beb1d93fd47208aa",
       "version_major": 2,
       "version_minor": 0
      },
      "text/plain": [
       "Batches:   0%|          | 0/1 [00:00<?, ?it/s]"
      ]
     },
     "metadata": {},
     "output_type": "display_data"
    },
    {
     "data": {
      "application/vnd.jupyter.widget-view+json": {
       "model_id": "54ebb664591042f4a598761ad110f753",
       "version_major": 2,
       "version_minor": 0
      },
      "text/plain": [
       "Batches:   0%|          | 0/1 [00:00<?, ?it/s]"
      ]
     },
     "metadata": {},
     "output_type": "display_data"
    },
    {
     "name": "stderr",
     "output_type": "stream",
     "text": [
      "Processing queries (Bi-Encoder):   2%|▏         | 5/214 [00:00<00:17, 11.89it/s]"
     ]
    },
    {
     "data": {
      "application/vnd.jupyter.widget-view+json": {
       "model_id": "f1bd6f0a6f954b6eb76030bf5319b87b",
       "version_major": 2,
       "version_minor": 0
      },
      "text/plain": [
       "Batches:   0%|          | 0/1 [00:00<?, ?it/s]"
      ]
     },
     "metadata": {},
     "output_type": "display_data"
    },
    {
     "data": {
      "application/vnd.jupyter.widget-view+json": {
       "model_id": "abcae74e687446888924847b487fd21d",
       "version_major": 2,
       "version_minor": 0
      },
      "text/plain": [
       "Batches:   0%|          | 0/1 [00:00<?, ?it/s]"
      ]
     },
     "metadata": {},
     "output_type": "display_data"
    },
    {
     "data": {
      "application/vnd.jupyter.widget-view+json": {
       "model_id": "c2cfb33d4d88436f99695659b6a873a5",
       "version_major": 2,
       "version_minor": 0
      },
      "text/plain": [
       "Batches:   0%|          | 0/1 [00:00<?, ?it/s]"
      ]
     },
     "metadata": {},
     "output_type": "display_data"
    },
    {
     "data": {
      "application/vnd.jupyter.widget-view+json": {
       "model_id": "4c4e7468b04d4de88c39cc7da32caccf",
       "version_major": 2,
       "version_minor": 0
      },
      "text/plain": [
       "Batches:   0%|          | 0/1 [00:00<?, ?it/s]"
      ]
     },
     "metadata": {},
     "output_type": "display_data"
    },
    {
     "name": "stderr",
     "output_type": "stream",
     "text": [
      "Processing queries (Bi-Encoder):   4%|▍         | 9/214 [00:00<00:10, 20.10it/s]"
     ]
    },
    {
     "data": {
      "application/vnd.jupyter.widget-view+json": {
       "model_id": "1793f3ee926d4cd6b5055b45d9c18e87",
       "version_major": 2,
       "version_minor": 0
      },
      "text/plain": [
       "Batches:   0%|          | 0/1 [00:00<?, ?it/s]"
      ]
     },
     "metadata": {},
     "output_type": "display_data"
    },
    {
     "data": {
      "application/vnd.jupyter.widget-view+json": {
       "model_id": "c6cffdd59dd34f8e96db77c61aab46d2",
       "version_major": 2,
       "version_minor": 0
      },
      "text/plain": [
       "Batches:   0%|          | 0/1 [00:00<?, ?it/s]"
      ]
     },
     "metadata": {},
     "output_type": "display_data"
    },
    {
     "data": {
      "application/vnd.jupyter.widget-view+json": {
       "model_id": "c71919fdac3a4fe38c2e87e6f806c2de",
       "version_major": 2,
       "version_minor": 0
      },
      "text/plain": [
       "Batches:   0%|          | 0/1 [00:00<?, ?it/s]"
      ]
     },
     "metadata": {},
     "output_type": "display_data"
    },
    {
     "data": {
      "application/vnd.jupyter.widget-view+json": {
       "model_id": "d296badeaa064dfcb0c307afad4fb7a7",
       "version_major": 2,
       "version_minor": 0
      },
      "text/plain": [
       "Batches:   0%|          | 0/1 [00:00<?, ?it/s]"
      ]
     },
     "metadata": {},
     "output_type": "display_data"
    },
    {
     "data": {
      "application/vnd.jupyter.widget-view+json": {
       "model_id": "e9f9531279eb44f89749805d4acd735c",
       "version_major": 2,
       "version_minor": 0
      },
      "text/plain": [
       "Batches:   0%|          | 0/1 [00:00<?, ?it/s]"
      ]
     },
     "metadata": {},
     "output_type": "display_data"
    },
    {
     "name": "stderr",
     "output_type": "stream",
     "text": [
      "Processing queries (Bi-Encoder):   7%|▋         | 14/214 [00:00<00:07, 26.49it/s]"
     ]
    },
    {
     "data": {
      "application/vnd.jupyter.widget-view+json": {
       "model_id": "da375a3b9c40401a803ac35ab71ddf14",
       "version_major": 2,
       "version_minor": 0
      },
      "text/plain": [
       "Batches:   0%|          | 0/1 [00:00<?, ?it/s]"
      ]
     },
     "metadata": {},
     "output_type": "display_data"
    },
    {
     "data": {
      "application/vnd.jupyter.widget-view+json": {
       "model_id": "a57188f8614c4896a34dddbc686921ca",
       "version_major": 2,
       "version_minor": 0
      },
      "text/plain": [
       "Batches:   0%|          | 0/1 [00:00<?, ?it/s]"
      ]
     },
     "metadata": {},
     "output_type": "display_data"
    },
    {
     "data": {
      "application/vnd.jupyter.widget-view+json": {
       "model_id": "cef81cd29eaf4fc3affe6e87b7cfd806",
       "version_major": 2,
       "version_minor": 0
      },
      "text/plain": [
       "Batches:   0%|          | 0/1 [00:00<?, ?it/s]"
      ]
     },
     "metadata": {},
     "output_type": "display_data"
    },
    {
     "data": {
      "application/vnd.jupyter.widget-view+json": {
       "model_id": "48912371cace46f490858c461d4cca33",
       "version_major": 2,
       "version_minor": 0
      },
      "text/plain": [
       "Batches:   0%|          | 0/1 [00:00<?, ?it/s]"
      ]
     },
     "metadata": {},
     "output_type": "display_data"
    },
    {
     "name": "stderr",
     "output_type": "stream",
     "text": [
      "Processing queries (Bi-Encoder):   8%|▊         | 18/214 [00:00<00:06, 28.29it/s]"
     ]
    },
    {
     "data": {
      "application/vnd.jupyter.widget-view+json": {
       "model_id": "844126f08e434be9a5544eddf2548019",
       "version_major": 2,
       "version_minor": 0
      },
      "text/plain": [
       "Batches:   0%|          | 0/1 [00:00<?, ?it/s]"
      ]
     },
     "metadata": {},
     "output_type": "display_data"
    },
    {
     "data": {
      "application/vnd.jupyter.widget-view+json": {
       "model_id": "eb33d6d133b2471fa73b0bc4c5b06d84",
       "version_major": 2,
       "version_minor": 0
      },
      "text/plain": [
       "Batches:   0%|          | 0/1 [00:00<?, ?it/s]"
      ]
     },
     "metadata": {},
     "output_type": "display_data"
    },
    {
     "data": {
      "application/vnd.jupyter.widget-view+json": {
       "model_id": "d8be938f4f47423aa60b1cb3e60ff2d7",
       "version_major": 2,
       "version_minor": 0
      },
      "text/plain": [
       "Batches:   0%|          | 0/1 [00:00<?, ?it/s]"
      ]
     },
     "metadata": {},
     "output_type": "display_data"
    },
    {
     "data": {
      "application/vnd.jupyter.widget-view+json": {
       "model_id": "d1859f61bb9b470e8b4fa02aa8deef92",
       "version_major": 2,
       "version_minor": 0
      },
      "text/plain": [
       "Batches:   0%|          | 0/1 [00:00<?, ?it/s]"
      ]
     },
     "metadata": {},
     "output_type": "display_data"
    },
    {
     "name": "stderr",
     "output_type": "stream",
     "text": [
      "Processing queries (Bi-Encoder):  10%|█         | 22/214 [00:00<00:06, 30.06it/s]"
     ]
    },
    {
     "data": {
      "application/vnd.jupyter.widget-view+json": {
       "model_id": "d9b1658059324bed87871af54bc828a2",
       "version_major": 2,
       "version_minor": 0
      },
      "text/plain": [
       "Batches:   0%|          | 0/1 [00:00<?, ?it/s]"
      ]
     },
     "metadata": {},
     "output_type": "display_data"
    },
    {
     "data": {
      "application/vnd.jupyter.widget-view+json": {
       "model_id": "57d8d48ee9114ce5b6f1f917bdfd64a7",
       "version_major": 2,
       "version_minor": 0
      },
      "text/plain": [
       "Batches:   0%|          | 0/1 [00:00<?, ?it/s]"
      ]
     },
     "metadata": {},
     "output_type": "display_data"
    },
    {
     "data": {
      "application/vnd.jupyter.widget-view+json": {
       "model_id": "54f67eedc5b74947be7afe8ea2ec81dd",
       "version_major": 2,
       "version_minor": 0
      },
      "text/plain": [
       "Batches:   0%|          | 0/1 [00:00<?, ?it/s]"
      ]
     },
     "metadata": {},
     "output_type": "display_data"
    },
    {
     "data": {
      "application/vnd.jupyter.widget-view+json": {
       "model_id": "00997ea181cd4ffa8f7ede1ff2eea309",
       "version_major": 2,
       "version_minor": 0
      },
      "text/plain": [
       "Batches:   0%|          | 0/1 [00:00<?, ?it/s]"
      ]
     },
     "metadata": {},
     "output_type": "display_data"
    },
    {
     "name": "stderr",
     "output_type": "stream",
     "text": [
      "Processing queries (Bi-Encoder):  12%|█▏        | 26/214 [00:01<00:06, 30.38it/s]"
     ]
    },
    {
     "data": {
      "application/vnd.jupyter.widget-view+json": {
       "model_id": "6490365743b2486394fe348be644e8c8",
       "version_major": 2,
       "version_minor": 0
      },
      "text/plain": [
       "Batches:   0%|          | 0/1 [00:00<?, ?it/s]"
      ]
     },
     "metadata": {},
     "output_type": "display_data"
    },
    {
     "data": {
      "application/vnd.jupyter.widget-view+json": {
       "model_id": "28dfa970eef549e3b5a017869dfc9e60",
       "version_major": 2,
       "version_minor": 0
      },
      "text/plain": [
       "Batches:   0%|          | 0/1 [00:00<?, ?it/s]"
      ]
     },
     "metadata": {},
     "output_type": "display_data"
    },
    {
     "data": {
      "application/vnd.jupyter.widget-view+json": {
       "model_id": "ad7924a0579941be9c9c1c8566994243",
       "version_major": 2,
       "version_minor": 0
      },
      "text/plain": [
       "Batches:   0%|          | 0/1 [00:00<?, ?it/s]"
      ]
     },
     "metadata": {},
     "output_type": "display_data"
    },
    {
     "data": {
      "application/vnd.jupyter.widget-view+json": {
       "model_id": "a349d9b374814a6da9847d4cddad7097",
       "version_major": 2,
       "version_minor": 0
      },
      "text/plain": [
       "Batches:   0%|          | 0/1 [00:00<?, ?it/s]"
      ]
     },
     "metadata": {},
     "output_type": "display_data"
    },
    {
     "name": "stderr",
     "output_type": "stream",
     "text": [
      "Processing queries (Bi-Encoder):  14%|█▍        | 30/214 [00:01<00:05, 32.01it/s]"
     ]
    },
    {
     "data": {
      "application/vnd.jupyter.widget-view+json": {
       "model_id": "5adea262b49d41a39f1009f22da80b1e",
       "version_major": 2,
       "version_minor": 0
      },
      "text/plain": [
       "Batches:   0%|          | 0/1 [00:00<?, ?it/s]"
      ]
     },
     "metadata": {},
     "output_type": "display_data"
    },
    {
     "data": {
      "application/vnd.jupyter.widget-view+json": {
       "model_id": "7cb4e8b1e98e4197b25d8ac823bfa59c",
       "version_major": 2,
       "version_minor": 0
      },
      "text/plain": [
       "Batches:   0%|          | 0/1 [00:00<?, ?it/s]"
      ]
     },
     "metadata": {},
     "output_type": "display_data"
    },
    {
     "data": {
      "application/vnd.jupyter.widget-view+json": {
       "model_id": "72e7db7ab2704a1289a14a1ce748c7f0",
       "version_major": 2,
       "version_minor": 0
      },
      "text/plain": [
       "Batches:   0%|          | 0/1 [00:00<?, ?it/s]"
      ]
     },
     "metadata": {},
     "output_type": "display_data"
    },
    {
     "data": {
      "application/vnd.jupyter.widget-view+json": {
       "model_id": "aa51a4dd2f88427e979070881b249f98",
       "version_major": 2,
       "version_minor": 0
      },
      "text/plain": [
       "Batches:   0%|          | 0/1 [00:00<?, ?it/s]"
      ]
     },
     "metadata": {},
     "output_type": "display_data"
    },
    {
     "name": "stderr",
     "output_type": "stream",
     "text": [
      "Processing queries (Bi-Encoder):  16%|█▌        | 34/214 [00:01<00:05, 32.76it/s]"
     ]
    },
    {
     "data": {
      "application/vnd.jupyter.widget-view+json": {
       "model_id": "c64466e99a084616b4a5735c59d18170",
       "version_major": 2,
       "version_minor": 0
      },
      "text/plain": [
       "Batches:   0%|          | 0/1 [00:00<?, ?it/s]"
      ]
     },
     "metadata": {},
     "output_type": "display_data"
    },
    {
     "data": {
      "application/vnd.jupyter.widget-view+json": {
       "model_id": "4ab3a0225d8a45b2bb9d9c1583e6ecb1",
       "version_major": 2,
       "version_minor": 0
      },
      "text/plain": [
       "Batches:   0%|          | 0/1 [00:00<?, ?it/s]"
      ]
     },
     "metadata": {},
     "output_type": "display_data"
    },
    {
     "data": {
      "application/vnd.jupyter.widget-view+json": {
       "model_id": "2a8e60a662734fc994c541faf7f3dc0e",
       "version_major": 2,
       "version_minor": 0
      },
      "text/plain": [
       "Batches:   0%|          | 0/1 [00:00<?, ?it/s]"
      ]
     },
     "metadata": {},
     "output_type": "display_data"
    },
    {
     "data": {
      "application/vnd.jupyter.widget-view+json": {
       "model_id": "b0398288450d41f6876e9af8ad46530d",
       "version_major": 2,
       "version_minor": 0
      },
      "text/plain": [
       "Batches:   0%|          | 0/1 [00:00<?, ?it/s]"
      ]
     },
     "metadata": {},
     "output_type": "display_data"
    },
    {
     "name": "stderr",
     "output_type": "stream",
     "text": [
      "Processing queries (Bi-Encoder):  18%|█▊        | 38/214 [00:01<00:05, 33.12it/s]"
     ]
    },
    {
     "data": {
      "application/vnd.jupyter.widget-view+json": {
       "model_id": "0f64c6a236e74c77b953c747985c3716",
       "version_major": 2,
       "version_minor": 0
      },
      "text/plain": [
       "Batches:   0%|          | 0/1 [00:00<?, ?it/s]"
      ]
     },
     "metadata": {},
     "output_type": "display_data"
    },
    {
     "data": {
      "application/vnd.jupyter.widget-view+json": {
       "model_id": "06e90bc48cf44891b94249bde96950e0",
       "version_major": 2,
       "version_minor": 0
      },
      "text/plain": [
       "Batches:   0%|          | 0/1 [00:00<?, ?it/s]"
      ]
     },
     "metadata": {},
     "output_type": "display_data"
    },
    {
     "data": {
      "application/vnd.jupyter.widget-view+json": {
       "model_id": "3e6a4c1652274076a80f635ab6f9f173",
       "version_major": 2,
       "version_minor": 0
      },
      "text/plain": [
       "Batches:   0%|          | 0/1 [00:00<?, ?it/s]"
      ]
     },
     "metadata": {},
     "output_type": "display_data"
    },
    {
     "data": {
      "application/vnd.jupyter.widget-view+json": {
       "model_id": "4fcd9be7f63a4ea3a68ddcf49085634a",
       "version_major": 2,
       "version_minor": 0
      },
      "text/plain": [
       "Batches:   0%|          | 0/1 [00:00<?, ?it/s]"
      ]
     },
     "metadata": {},
     "output_type": "display_data"
    },
    {
     "data": {
      "application/vnd.jupyter.widget-view+json": {
       "model_id": "7e08326383af4461b026626afd5957e8",
       "version_major": 2,
       "version_minor": 0
      },
      "text/plain": [
       "Batches:   0%|          | 0/1 [00:00<?, ?it/s]"
      ]
     },
     "metadata": {},
     "output_type": "display_data"
    },
    {
     "name": "stderr",
     "output_type": "stream",
     "text": [
      "Processing queries (Bi-Encoder):  20%|██        | 43/214 [00:01<00:04, 35.55it/s]"
     ]
    },
    {
     "data": {
      "application/vnd.jupyter.widget-view+json": {
       "model_id": "1ffc5ac5c5c84989b8e6ce3523a5c837",
       "version_major": 2,
       "version_minor": 0
      },
      "text/plain": [
       "Batches:   0%|          | 0/1 [00:00<?, ?it/s]"
      ]
     },
     "metadata": {},
     "output_type": "display_data"
    },
    {
     "data": {
      "application/vnd.jupyter.widget-view+json": {
       "model_id": "16eaa812a3d74485a3e09f3cbc3f1192",
       "version_major": 2,
       "version_minor": 0
      },
      "text/plain": [
       "Batches:   0%|          | 0/1 [00:00<?, ?it/s]"
      ]
     },
     "metadata": {},
     "output_type": "display_data"
    },
    {
     "data": {
      "application/vnd.jupyter.widget-view+json": {
       "model_id": "9249ccd4436c4b628a91bce3da885335",
       "version_major": 2,
       "version_minor": 0
      },
      "text/plain": [
       "Batches:   0%|          | 0/1 [00:00<?, ?it/s]"
      ]
     },
     "metadata": {},
     "output_type": "display_data"
    },
    {
     "data": {
      "application/vnd.jupyter.widget-view+json": {
       "model_id": "d970877fe4304f228882cf46b0b9857c",
       "version_major": 2,
       "version_minor": 0
      },
      "text/plain": [
       "Batches:   0%|          | 0/1 [00:00<?, ?it/s]"
      ]
     },
     "metadata": {},
     "output_type": "display_data"
    },
    {
     "name": "stderr",
     "output_type": "stream",
     "text": [
      "Processing queries (Bi-Encoder):  22%|██▏       | 47/214 [00:01<00:04, 36.16it/s]"
     ]
    },
    {
     "data": {
      "application/vnd.jupyter.widget-view+json": {
       "model_id": "17f92094725b44f1b50f0c8b2eb71fb6",
       "version_major": 2,
       "version_minor": 0
      },
      "text/plain": [
       "Batches:   0%|          | 0/1 [00:00<?, ?it/s]"
      ]
     },
     "metadata": {},
     "output_type": "display_data"
    },
    {
     "data": {
      "application/vnd.jupyter.widget-view+json": {
       "model_id": "4362c896fbd74ac9a6a980e6d3e15d81",
       "version_major": 2,
       "version_minor": 0
      },
      "text/plain": [
       "Batches:   0%|          | 0/1 [00:00<?, ?it/s]"
      ]
     },
     "metadata": {},
     "output_type": "display_data"
    },
    {
     "data": {
      "application/vnd.jupyter.widget-view+json": {
       "model_id": "7e0d1baa8de34cb9b87b0fe92725b77f",
       "version_major": 2,
       "version_minor": 0
      },
      "text/plain": [
       "Batches:   0%|          | 0/1 [00:00<?, ?it/s]"
      ]
     },
     "metadata": {},
     "output_type": "display_data"
    },
    {
     "data": {
      "application/vnd.jupyter.widget-view+json": {
       "model_id": "4ca760f73a684c539c6780f4b4b209e0",
       "version_major": 2,
       "version_minor": 0
      },
      "text/plain": [
       "Batches:   0%|          | 0/1 [00:00<?, ?it/s]"
      ]
     },
     "metadata": {},
     "output_type": "display_data"
    },
    {
     "name": "stderr",
     "output_type": "stream",
     "text": [
      "Processing queries (Bi-Encoder):  24%|██▍       | 51/214 [00:01<00:04, 36.38it/s]"
     ]
    },
    {
     "data": {
      "application/vnd.jupyter.widget-view+json": {
       "model_id": "0811cbc0d4a84f12b060da14a66b3267",
       "version_major": 2,
       "version_minor": 0
      },
      "text/plain": [
       "Batches:   0%|          | 0/1 [00:00<?, ?it/s]"
      ]
     },
     "metadata": {},
     "output_type": "display_data"
    },
    {
     "data": {
      "application/vnd.jupyter.widget-view+json": {
       "model_id": "c5c82fe5c9464fd3bab5856274a841b3",
       "version_major": 2,
       "version_minor": 0
      },
      "text/plain": [
       "Batches:   0%|          | 0/1 [00:00<?, ?it/s]"
      ]
     },
     "metadata": {},
     "output_type": "display_data"
    },
    {
     "data": {
      "application/vnd.jupyter.widget-view+json": {
       "model_id": "c881b9b0940a4be19495aa02a4d4dced",
       "version_major": 2,
       "version_minor": 0
      },
      "text/plain": [
       "Batches:   0%|          | 0/1 [00:00<?, ?it/s]"
      ]
     },
     "metadata": {},
     "output_type": "display_data"
    },
    {
     "data": {
      "application/vnd.jupyter.widget-view+json": {
       "model_id": "3b438c92f44d4794959d44e4f0ad1d7e",
       "version_major": 2,
       "version_minor": 0
      },
      "text/plain": [
       "Batches:   0%|          | 0/1 [00:00<?, ?it/s]"
      ]
     },
     "metadata": {},
     "output_type": "display_data"
    },
    {
     "name": "stderr",
     "output_type": "stream",
     "text": [
      "Processing queries (Bi-Encoder):  26%|██▌       | 55/214 [00:01<00:04, 33.85it/s]"
     ]
    },
    {
     "data": {
      "application/vnd.jupyter.widget-view+json": {
       "model_id": "a1598ae0bdb3499ab662a18216b81c4e",
       "version_major": 2,
       "version_minor": 0
      },
      "text/plain": [
       "Batches:   0%|          | 0/1 [00:00<?, ?it/s]"
      ]
     },
     "metadata": {},
     "output_type": "display_data"
    },
    {
     "data": {
      "application/vnd.jupyter.widget-view+json": {
       "model_id": "6ba824077e7848c6ad54170255fe39e8",
       "version_major": 2,
       "version_minor": 0
      },
      "text/plain": [
       "Batches:   0%|          | 0/1 [00:00<?, ?it/s]"
      ]
     },
     "metadata": {},
     "output_type": "display_data"
    },
    {
     "data": {
      "application/vnd.jupyter.widget-view+json": {
       "model_id": "d7b16c071d5d47c3ba971ed974300a58",
       "version_major": 2,
       "version_minor": 0
      },
      "text/plain": [
       "Batches:   0%|          | 0/1 [00:00<?, ?it/s]"
      ]
     },
     "metadata": {},
     "output_type": "display_data"
    },
    {
     "data": {
      "application/vnd.jupyter.widget-view+json": {
       "model_id": "d4311299897e4a8f80162ac787180b93",
       "version_major": 2,
       "version_minor": 0
      },
      "text/plain": [
       "Batches:   0%|          | 0/1 [00:00<?, ?it/s]"
      ]
     },
     "metadata": {},
     "output_type": "display_data"
    },
    {
     "data": {
      "application/vnd.jupyter.widget-view+json": {
       "model_id": "067496ca372a43e8987f296fdfbd52e4",
       "version_major": 2,
       "version_minor": 0
      },
      "text/plain": [
       "Batches:   0%|          | 0/1 [00:00<?, ?it/s]"
      ]
     },
     "metadata": {},
     "output_type": "display_data"
    },
    {
     "name": "stderr",
     "output_type": "stream",
     "text": [
      "Processing queries (Bi-Encoder):  28%|██▊       | 60/214 [00:02<00:04, 35.94it/s]"
     ]
    },
    {
     "data": {
      "application/vnd.jupyter.widget-view+json": {
       "model_id": "22e4970b6843440499c36741af5246cb",
       "version_major": 2,
       "version_minor": 0
      },
      "text/plain": [
       "Batches:   0%|          | 0/1 [00:00<?, ?it/s]"
      ]
     },
     "metadata": {},
     "output_type": "display_data"
    },
    {
     "data": {
      "application/vnd.jupyter.widget-view+json": {
       "model_id": "f6833c5d5b3d4a61b0e31debb5bbea48",
       "version_major": 2,
       "version_minor": 0
      },
      "text/plain": [
       "Batches:   0%|          | 0/1 [00:00<?, ?it/s]"
      ]
     },
     "metadata": {},
     "output_type": "display_data"
    },
    {
     "data": {
      "application/vnd.jupyter.widget-view+json": {
       "model_id": "c9bca67484e34cd2b9042c7f62b24f6b",
       "version_major": 2,
       "version_minor": 0
      },
      "text/plain": [
       "Batches:   0%|          | 0/1 [00:00<?, ?it/s]"
      ]
     },
     "metadata": {},
     "output_type": "display_data"
    },
    {
     "data": {
      "application/vnd.jupyter.widget-view+json": {
       "model_id": "43d0ff73a9864dff9a7527c1f379e57c",
       "version_major": 2,
       "version_minor": 0
      },
      "text/plain": [
       "Batches:   0%|          | 0/1 [00:00<?, ?it/s]"
      ]
     },
     "metadata": {},
     "output_type": "display_data"
    },
    {
     "name": "stderr",
     "output_type": "stream",
     "text": [
      "Processing queries (Bi-Encoder):  30%|██▉       | 64/214 [00:02<00:04, 36.95it/s]"
     ]
    },
    {
     "data": {
      "application/vnd.jupyter.widget-view+json": {
       "model_id": "3b01ff319f584726888c58d749ca2ba9",
       "version_major": 2,
       "version_minor": 0
      },
      "text/plain": [
       "Batches:   0%|          | 0/1 [00:00<?, ?it/s]"
      ]
     },
     "metadata": {},
     "output_type": "display_data"
    },
    {
     "data": {
      "application/vnd.jupyter.widget-view+json": {
       "model_id": "60e862b73fb148d0985ea7f16c478175",
       "version_major": 2,
       "version_minor": 0
      },
      "text/plain": [
       "Batches:   0%|          | 0/1 [00:00<?, ?it/s]"
      ]
     },
     "metadata": {},
     "output_type": "display_data"
    },
    {
     "data": {
      "application/vnd.jupyter.widget-view+json": {
       "model_id": "390b35c5b684475dbb78980a11a2dc80",
       "version_major": 2,
       "version_minor": 0
      },
      "text/plain": [
       "Batches:   0%|          | 0/1 [00:00<?, ?it/s]"
      ]
     },
     "metadata": {},
     "output_type": "display_data"
    },
    {
     "data": {
      "application/vnd.jupyter.widget-view+json": {
       "model_id": "3cdbead1f1444ba1840447af2d652d2e",
       "version_major": 2,
       "version_minor": 0
      },
      "text/plain": [
       "Batches:   0%|          | 0/1 [00:00<?, ?it/s]"
      ]
     },
     "metadata": {},
     "output_type": "display_data"
    },
    {
     "name": "stderr",
     "output_type": "stream",
     "text": [
      "Processing queries (Bi-Encoder):  32%|███▏      | 68/214 [00:02<00:04, 35.89it/s]"
     ]
    },
    {
     "data": {
      "application/vnd.jupyter.widget-view+json": {
       "model_id": "4d4fadb56a3d407488fb75745bd0886a",
       "version_major": 2,
       "version_minor": 0
      },
      "text/plain": [
       "Batches:   0%|          | 0/1 [00:00<?, ?it/s]"
      ]
     },
     "metadata": {},
     "output_type": "display_data"
    },
    {
     "data": {
      "application/vnd.jupyter.widget-view+json": {
       "model_id": "6c42d2f0a9df43f0acf5fd4fa5713ebe",
       "version_major": 2,
       "version_minor": 0
      },
      "text/plain": [
       "Batches:   0%|          | 0/1 [00:00<?, ?it/s]"
      ]
     },
     "metadata": {},
     "output_type": "display_data"
    },
    {
     "data": {
      "application/vnd.jupyter.widget-view+json": {
       "model_id": "79b2aebdcd924215af475bb281d78f49",
       "version_major": 2,
       "version_minor": 0
      },
      "text/plain": [
       "Batches:   0%|          | 0/1 [00:00<?, ?it/s]"
      ]
     },
     "metadata": {},
     "output_type": "display_data"
    },
    {
     "data": {
      "application/vnd.jupyter.widget-view+json": {
       "model_id": "75582e048e87420ea945f3dcee9428ca",
       "version_major": 2,
       "version_minor": 0
      },
      "text/plain": [
       "Batches:   0%|          | 0/1 [00:00<?, ?it/s]"
      ]
     },
     "metadata": {},
     "output_type": "display_data"
    },
    {
     "name": "stderr",
     "output_type": "stream",
     "text": [
      "Processing queries (Bi-Encoder):  34%|███▎      | 72/214 [00:02<00:03, 35.92it/s]"
     ]
    },
    {
     "data": {
      "application/vnd.jupyter.widget-view+json": {
       "model_id": "4589fc4b73144ed08c2f581b7b915040",
       "version_major": 2,
       "version_minor": 0
      },
      "text/plain": [
       "Batches:   0%|          | 0/1 [00:00<?, ?it/s]"
      ]
     },
     "metadata": {},
     "output_type": "display_data"
    },
    {
     "data": {
      "application/vnd.jupyter.widget-view+json": {
       "model_id": "592de67246a44cf487134fa122752812",
       "version_major": 2,
       "version_minor": 0
      },
      "text/plain": [
       "Batches:   0%|          | 0/1 [00:00<?, ?it/s]"
      ]
     },
     "metadata": {},
     "output_type": "display_data"
    },
    {
     "data": {
      "application/vnd.jupyter.widget-view+json": {
       "model_id": "e961971da2044f12834a725719f5f749",
       "version_major": 2,
       "version_minor": 0
      },
      "text/plain": [
       "Batches:   0%|          | 0/1 [00:00<?, ?it/s]"
      ]
     },
     "metadata": {},
     "output_type": "display_data"
    },
    {
     "data": {
      "application/vnd.jupyter.widget-view+json": {
       "model_id": "3bbe68f0a5b34950b1b8e54bf6f83373",
       "version_major": 2,
       "version_minor": 0
      },
      "text/plain": [
       "Batches:   0%|          | 0/1 [00:00<?, ?it/s]"
      ]
     },
     "metadata": {},
     "output_type": "display_data"
    },
    {
     "name": "stderr",
     "output_type": "stream",
     "text": [
      "Processing queries (Bi-Encoder):  36%|███▌      | 76/214 [00:02<00:03, 36.85it/s]"
     ]
    },
    {
     "data": {
      "application/vnd.jupyter.widget-view+json": {
       "model_id": "b526034582c1438d9c5163e61abee973",
       "version_major": 2,
       "version_minor": 0
      },
      "text/plain": [
       "Batches:   0%|          | 0/1 [00:00<?, ?it/s]"
      ]
     },
     "metadata": {},
     "output_type": "display_data"
    },
    {
     "data": {
      "application/vnd.jupyter.widget-view+json": {
       "model_id": "4ecec07efb3c419992f08095c61740d4",
       "version_major": 2,
       "version_minor": 0
      },
      "text/plain": [
       "Batches:   0%|          | 0/1 [00:00<?, ?it/s]"
      ]
     },
     "metadata": {},
     "output_type": "display_data"
    },
    {
     "data": {
      "application/vnd.jupyter.widget-view+json": {
       "model_id": "04a728754db64a7391e25313818370b9",
       "version_major": 2,
       "version_minor": 0
      },
      "text/plain": [
       "Batches:   0%|          | 0/1 [00:00<?, ?it/s]"
      ]
     },
     "metadata": {},
     "output_type": "display_data"
    },
    {
     "data": {
      "application/vnd.jupyter.widget-view+json": {
       "model_id": "1f12c1fb63a246278d798f264bb8f473",
       "version_major": 2,
       "version_minor": 0
      },
      "text/plain": [
       "Batches:   0%|          | 0/1 [00:00<?, ?it/s]"
      ]
     },
     "metadata": {},
     "output_type": "display_data"
    },
    {
     "data": {
      "application/vnd.jupyter.widget-view+json": {
       "model_id": "964c1656e5ff4fa7965ae2ac49c817e8",
       "version_major": 2,
       "version_minor": 0
      },
      "text/plain": [
       "Batches:   0%|          | 0/1 [00:00<?, ?it/s]"
      ]
     },
     "metadata": {},
     "output_type": "display_data"
    },
    {
     "name": "stderr",
     "output_type": "stream",
     "text": [
      "Processing queries (Bi-Encoder):  38%|███▊      | 81/214 [00:02<00:03, 37.41it/s]"
     ]
    },
    {
     "data": {
      "application/vnd.jupyter.widget-view+json": {
       "model_id": "7cee320c12a74ad78ac3936cd78eeccf",
       "version_major": 2,
       "version_minor": 0
      },
      "text/plain": [
       "Batches:   0%|          | 0/1 [00:00<?, ?it/s]"
      ]
     },
     "metadata": {},
     "output_type": "display_data"
    },
    {
     "data": {
      "application/vnd.jupyter.widget-view+json": {
       "model_id": "5faea223a4644df68b65d4176d9ce444",
       "version_major": 2,
       "version_minor": 0
      },
      "text/plain": [
       "Batches:   0%|          | 0/1 [00:00<?, ?it/s]"
      ]
     },
     "metadata": {},
     "output_type": "display_data"
    },
    {
     "data": {
      "application/vnd.jupyter.widget-view+json": {
       "model_id": "b83e41677be64b30807d172d3ffa625c",
       "version_major": 2,
       "version_minor": 0
      },
      "text/plain": [
       "Batches:   0%|          | 0/1 [00:00<?, ?it/s]"
      ]
     },
     "metadata": {},
     "output_type": "display_data"
    },
    {
     "data": {
      "application/vnd.jupyter.widget-view+json": {
       "model_id": "8d12f521329348f49fd9654c772179b9",
       "version_major": 2,
       "version_minor": 0
      },
      "text/plain": [
       "Batches:   0%|          | 0/1 [00:00<?, ?it/s]"
      ]
     },
     "metadata": {},
     "output_type": "display_data"
    },
    {
     "name": "stderr",
     "output_type": "stream",
     "text": [
      "Processing queries (Bi-Encoder):  40%|███▉      | 85/214 [00:02<00:03, 36.06it/s]"
     ]
    },
    {
     "data": {
      "application/vnd.jupyter.widget-view+json": {
       "model_id": "58414eb67d3e41acbd28e97f9480d13d",
       "version_major": 2,
       "version_minor": 0
      },
      "text/plain": [
       "Batches:   0%|          | 0/1 [00:00<?, ?it/s]"
      ]
     },
     "metadata": {},
     "output_type": "display_data"
    },
    {
     "data": {
      "application/vnd.jupyter.widget-view+json": {
       "model_id": "d84e2e3a370d4e448d962e2ea2dabb17",
       "version_major": 2,
       "version_minor": 0
      },
      "text/plain": [
       "Batches:   0%|          | 0/1 [00:00<?, ?it/s]"
      ]
     },
     "metadata": {},
     "output_type": "display_data"
    },
    {
     "data": {
      "application/vnd.jupyter.widget-view+json": {
       "model_id": "8835377e75d5435fab963170039397a7",
       "version_major": 2,
       "version_minor": 0
      },
      "text/plain": [
       "Batches:   0%|          | 0/1 [00:00<?, ?it/s]"
      ]
     },
     "metadata": {},
     "output_type": "display_data"
    },
    {
     "data": {
      "application/vnd.jupyter.widget-view+json": {
       "model_id": "afbe8e47fe244336a51b3bb439ec2811",
       "version_major": 2,
       "version_minor": 0
      },
      "text/plain": [
       "Batches:   0%|          | 0/1 [00:00<?, ?it/s]"
      ]
     },
     "metadata": {},
     "output_type": "display_data"
    },
    {
     "name": "stderr",
     "output_type": "stream",
     "text": [
      "Processing queries (Bi-Encoder):  42%|████▏     | 89/214 [00:02<00:03, 35.71it/s]"
     ]
    },
    {
     "data": {
      "application/vnd.jupyter.widget-view+json": {
       "model_id": "fba21e3b0f9342f9b08a174fde520dd7",
       "version_major": 2,
       "version_minor": 0
      },
      "text/plain": [
       "Batches:   0%|          | 0/1 [00:00<?, ?it/s]"
      ]
     },
     "metadata": {},
     "output_type": "display_data"
    },
    {
     "data": {
      "application/vnd.jupyter.widget-view+json": {
       "model_id": "2ef62c33274a48fe917faed204927890",
       "version_major": 2,
       "version_minor": 0
      },
      "text/plain": [
       "Batches:   0%|          | 0/1 [00:00<?, ?it/s]"
      ]
     },
     "metadata": {},
     "output_type": "display_data"
    },
    {
     "data": {
      "application/vnd.jupyter.widget-view+json": {
       "model_id": "3a41e302bb3b4a099f37d4372c4acb4f",
       "version_major": 2,
       "version_minor": 0
      },
      "text/plain": [
       "Batches:   0%|          | 0/1 [00:00<?, ?it/s]"
      ]
     },
     "metadata": {},
     "output_type": "display_data"
    },
    {
     "data": {
      "application/vnd.jupyter.widget-view+json": {
       "model_id": "7b9bb2fbc1d84fd7a3ef1dff1891ab74",
       "version_major": 2,
       "version_minor": 0
      },
      "text/plain": [
       "Batches:   0%|          | 0/1 [00:00<?, ?it/s]"
      ]
     },
     "metadata": {},
     "output_type": "display_data"
    },
    {
     "name": "stderr",
     "output_type": "stream",
     "text": [
      "Processing queries (Bi-Encoder):  43%|████▎     | 93/214 [00:02<00:03, 35.92it/s]"
     ]
    },
    {
     "data": {
      "application/vnd.jupyter.widget-view+json": {
       "model_id": "07504b85c0f445629d173922eb8a5fc6",
       "version_major": 2,
       "version_minor": 0
      },
      "text/plain": [
       "Batches:   0%|          | 0/1 [00:00<?, ?it/s]"
      ]
     },
     "metadata": {},
     "output_type": "display_data"
    },
    {
     "data": {
      "application/vnd.jupyter.widget-view+json": {
       "model_id": "2e4aff4543684837a74f9904c55aeb13",
       "version_major": 2,
       "version_minor": 0
      },
      "text/plain": [
       "Batches:   0%|          | 0/1 [00:00<?, ?it/s]"
      ]
     },
     "metadata": {},
     "output_type": "display_data"
    },
    {
     "data": {
      "application/vnd.jupyter.widget-view+json": {
       "model_id": "4718af8a3df1449696f2a9e6e4d66d75",
       "version_major": 2,
       "version_minor": 0
      },
      "text/plain": [
       "Batches:   0%|          | 0/1 [00:00<?, ?it/s]"
      ]
     },
     "metadata": {},
     "output_type": "display_data"
    },
    {
     "data": {
      "application/vnd.jupyter.widget-view+json": {
       "model_id": "4ec85c4e5e1447f389cfd6d1e798bf50",
       "version_major": 2,
       "version_minor": 0
      },
      "text/plain": [
       "Batches:   0%|          | 0/1 [00:00<?, ?it/s]"
      ]
     },
     "metadata": {},
     "output_type": "display_data"
    },
    {
     "name": "stderr",
     "output_type": "stream",
     "text": [
      "Processing queries (Bi-Encoder):  45%|████▌     | 97/214 [00:03<00:03, 35.29it/s]"
     ]
    },
    {
     "data": {
      "application/vnd.jupyter.widget-view+json": {
       "model_id": "5c54d3c903bb4e40acd76a4a424da2ce",
       "version_major": 2,
       "version_minor": 0
      },
      "text/plain": [
       "Batches:   0%|          | 0/1 [00:00<?, ?it/s]"
      ]
     },
     "metadata": {},
     "output_type": "display_data"
    },
    {
     "data": {
      "application/vnd.jupyter.widget-view+json": {
       "model_id": "10e72ae9b0c740bab080e28a7587469d",
       "version_major": 2,
       "version_minor": 0
      },
      "text/plain": [
       "Batches:   0%|          | 0/1 [00:00<?, ?it/s]"
      ]
     },
     "metadata": {},
     "output_type": "display_data"
    },
    {
     "data": {
      "application/vnd.jupyter.widget-view+json": {
       "model_id": "24ba0aaaa4204a928e34852ad99eec9b",
       "version_major": 2,
       "version_minor": 0
      },
      "text/plain": [
       "Batches:   0%|          | 0/1 [00:00<?, ?it/s]"
      ]
     },
     "metadata": {},
     "output_type": "display_data"
    },
    {
     "data": {
      "application/vnd.jupyter.widget-view+json": {
       "model_id": "42a825f581e045a2a224433d6b880058",
       "version_major": 2,
       "version_minor": 0
      },
      "text/plain": [
       "Batches:   0%|          | 0/1 [00:00<?, ?it/s]"
      ]
     },
     "metadata": {},
     "output_type": "display_data"
    },
    {
     "name": "stderr",
     "output_type": "stream",
     "text": [
      "Processing queries (Bi-Encoder):  47%|████▋     | 101/214 [00:03<00:03, 36.08it/s]"
     ]
    },
    {
     "data": {
      "application/vnd.jupyter.widget-view+json": {
       "model_id": "6411c52fe8104b4a831eb6cca948f5d1",
       "version_major": 2,
       "version_minor": 0
      },
      "text/plain": [
       "Batches:   0%|          | 0/1 [00:00<?, ?it/s]"
      ]
     },
     "metadata": {},
     "output_type": "display_data"
    },
    {
     "data": {
      "application/vnd.jupyter.widget-view+json": {
       "model_id": "6cbacbdd065e4b0a895bab6e8b7c2a5a",
       "version_major": 2,
       "version_minor": 0
      },
      "text/plain": [
       "Batches:   0%|          | 0/1 [00:00<?, ?it/s]"
      ]
     },
     "metadata": {},
     "output_type": "display_data"
    },
    {
     "data": {
      "application/vnd.jupyter.widget-view+json": {
       "model_id": "dd209690c6044019a653425ba3168c95",
       "version_major": 2,
       "version_minor": 0
      },
      "text/plain": [
       "Batches:   0%|          | 0/1 [00:00<?, ?it/s]"
      ]
     },
     "metadata": {},
     "output_type": "display_data"
    },
    {
     "data": {
      "application/vnd.jupyter.widget-view+json": {
       "model_id": "e6af1bc8ec7a435c8bf860677308cde9",
       "version_major": 2,
       "version_minor": 0
      },
      "text/plain": [
       "Batches:   0%|          | 0/1 [00:00<?, ?it/s]"
      ]
     },
     "metadata": {},
     "output_type": "display_data"
    },
    {
     "name": "stderr",
     "output_type": "stream",
     "text": [
      "Processing queries (Bi-Encoder):  49%|████▉     | 105/214 [00:03<00:02, 36.34it/s]"
     ]
    },
    {
     "data": {
      "application/vnd.jupyter.widget-view+json": {
       "model_id": "9f853c2df6614e85ad388b486830203b",
       "version_major": 2,
       "version_minor": 0
      },
      "text/plain": [
       "Batches:   0%|          | 0/1 [00:00<?, ?it/s]"
      ]
     },
     "metadata": {},
     "output_type": "display_data"
    },
    {
     "data": {
      "application/vnd.jupyter.widget-view+json": {
       "model_id": "fe2ccf9440ee4f16a36962cbdc87a24d",
       "version_major": 2,
       "version_minor": 0
      },
      "text/plain": [
       "Batches:   0%|          | 0/1 [00:00<?, ?it/s]"
      ]
     },
     "metadata": {},
     "output_type": "display_data"
    },
    {
     "data": {
      "application/vnd.jupyter.widget-view+json": {
       "model_id": "b38f850ccdb44f879307ac13b95dd563",
       "version_major": 2,
       "version_minor": 0
      },
      "text/plain": [
       "Batches:   0%|          | 0/1 [00:00<?, ?it/s]"
      ]
     },
     "metadata": {},
     "output_type": "display_data"
    },
    {
     "data": {
      "application/vnd.jupyter.widget-view+json": {
       "model_id": "499b99e83b6f4ef39980b81c67768ba5",
       "version_major": 2,
       "version_minor": 0
      },
      "text/plain": [
       "Batches:   0%|          | 0/1 [00:00<?, ?it/s]"
      ]
     },
     "metadata": {},
     "output_type": "display_data"
    },
    {
     "data": {
      "application/vnd.jupyter.widget-view+json": {
       "model_id": "89fded1be0284d92a081ddaae3a82b6d",
       "version_major": 2,
       "version_minor": 0
      },
      "text/plain": [
       "Batches:   0%|          | 0/1 [00:00<?, ?it/s]"
      ]
     },
     "metadata": {},
     "output_type": "display_data"
    },
    {
     "name": "stderr",
     "output_type": "stream",
     "text": [
      "Processing queries (Bi-Encoder):  51%|█████▏    | 110/214 [00:03<00:02, 37.21it/s]"
     ]
    },
    {
     "data": {
      "application/vnd.jupyter.widget-view+json": {
       "model_id": "faa80ed165c44d0096fbd937da4fd708",
       "version_major": 2,
       "version_minor": 0
      },
      "text/plain": [
       "Batches:   0%|          | 0/1 [00:00<?, ?it/s]"
      ]
     },
     "metadata": {},
     "output_type": "display_data"
    },
    {
     "data": {
      "application/vnd.jupyter.widget-view+json": {
       "model_id": "db2930d62f054c40a0a19387e144fb0e",
       "version_major": 2,
       "version_minor": 0
      },
      "text/plain": [
       "Batches:   0%|          | 0/1 [00:00<?, ?it/s]"
      ]
     },
     "metadata": {},
     "output_type": "display_data"
    },
    {
     "data": {
      "application/vnd.jupyter.widget-view+json": {
       "model_id": "dd531dd030b44e33bb76c57d71a5441b",
       "version_major": 2,
       "version_minor": 0
      },
      "text/plain": [
       "Batches:   0%|          | 0/1 [00:00<?, ?it/s]"
      ]
     },
     "metadata": {},
     "output_type": "display_data"
    },
    {
     "data": {
      "application/vnd.jupyter.widget-view+json": {
       "model_id": "c9620342d0404026a38ea770a1bcfd77",
       "version_major": 2,
       "version_minor": 0
      },
      "text/plain": [
       "Batches:   0%|          | 0/1 [00:00<?, ?it/s]"
      ]
     },
     "metadata": {},
     "output_type": "display_data"
    },
    {
     "name": "stderr",
     "output_type": "stream",
     "text": [
      "Processing queries (Bi-Encoder):  53%|█████▎    | 114/214 [00:03<00:02, 36.90it/s]"
     ]
    },
    {
     "data": {
      "application/vnd.jupyter.widget-view+json": {
       "model_id": "b737f946235043edb055ffca73078a49",
       "version_major": 2,
       "version_minor": 0
      },
      "text/plain": [
       "Batches:   0%|          | 0/1 [00:00<?, ?it/s]"
      ]
     },
     "metadata": {},
     "output_type": "display_data"
    },
    {
     "data": {
      "application/vnd.jupyter.widget-view+json": {
       "model_id": "b3cdcba3e3de43a8a79ed35cffae556d",
       "version_major": 2,
       "version_minor": 0
      },
      "text/plain": [
       "Batches:   0%|          | 0/1 [00:00<?, ?it/s]"
      ]
     },
     "metadata": {},
     "output_type": "display_data"
    },
    {
     "data": {
      "application/vnd.jupyter.widget-view+json": {
       "model_id": "fd021723b59f4e258f6abdea63f13290",
       "version_major": 2,
       "version_minor": 0
      },
      "text/plain": [
       "Batches:   0%|          | 0/1 [00:00<?, ?it/s]"
      ]
     },
     "metadata": {},
     "output_type": "display_data"
    },
    {
     "data": {
      "application/vnd.jupyter.widget-view+json": {
       "model_id": "60127eb41d724b77b5f65c9a2d89c0c1",
       "version_major": 2,
       "version_minor": 0
      },
      "text/plain": [
       "Batches:   0%|          | 0/1 [00:00<?, ?it/s]"
      ]
     },
     "metadata": {},
     "output_type": "display_data"
    },
    {
     "name": "stderr",
     "output_type": "stream",
     "text": [
      "Processing queries (Bi-Encoder):  55%|█████▌    | 118/214 [00:03<00:02, 36.52it/s]"
     ]
    },
    {
     "data": {
      "application/vnd.jupyter.widget-view+json": {
       "model_id": "12ee363f520248eaa443fede310ea847",
       "version_major": 2,
       "version_minor": 0
      },
      "text/plain": [
       "Batches:   0%|          | 0/1 [00:00<?, ?it/s]"
      ]
     },
     "metadata": {},
     "output_type": "display_data"
    },
    {
     "data": {
      "application/vnd.jupyter.widget-view+json": {
       "model_id": "369830987a6a4e5f9cb1c5d375a101be",
       "version_major": 2,
       "version_minor": 0
      },
      "text/plain": [
       "Batches:   0%|          | 0/1 [00:00<?, ?it/s]"
      ]
     },
     "metadata": {},
     "output_type": "display_data"
    },
    {
     "data": {
      "application/vnd.jupyter.widget-view+json": {
       "model_id": "e76362a5c127417c9ccb51147187b720",
       "version_major": 2,
       "version_minor": 0
      },
      "text/plain": [
       "Batches:   0%|          | 0/1 [00:00<?, ?it/s]"
      ]
     },
     "metadata": {},
     "output_type": "display_data"
    },
    {
     "data": {
      "application/vnd.jupyter.widget-view+json": {
       "model_id": "861721926d9f444e9d3e835a942f8019",
       "version_major": 2,
       "version_minor": 0
      },
      "text/plain": [
       "Batches:   0%|          | 0/1 [00:00<?, ?it/s]"
      ]
     },
     "metadata": {},
     "output_type": "display_data"
    },
    {
     "name": "stderr",
     "output_type": "stream",
     "text": [
      "Processing queries (Bi-Encoder):  57%|█████▋    | 122/214 [00:03<00:02, 35.88it/s]"
     ]
    },
    {
     "data": {
      "application/vnd.jupyter.widget-view+json": {
       "model_id": "e9f9f1dca3cd49fdb217a1515d29342d",
       "version_major": 2,
       "version_minor": 0
      },
      "text/plain": [
       "Batches:   0%|          | 0/1 [00:00<?, ?it/s]"
      ]
     },
     "metadata": {},
     "output_type": "display_data"
    },
    {
     "data": {
      "application/vnd.jupyter.widget-view+json": {
       "model_id": "d107aae5efa047449d8533691c2eda08",
       "version_major": 2,
       "version_minor": 0
      },
      "text/plain": [
       "Batches:   0%|          | 0/1 [00:00<?, ?it/s]"
      ]
     },
     "metadata": {},
     "output_type": "display_data"
    },
    {
     "data": {
      "application/vnd.jupyter.widget-view+json": {
       "model_id": "3dccf337dd164359835226e189c51077",
       "version_major": 2,
       "version_minor": 0
      },
      "text/plain": [
       "Batches:   0%|          | 0/1 [00:00<?, ?it/s]"
      ]
     },
     "metadata": {},
     "output_type": "display_data"
    },
    {
     "data": {
      "application/vnd.jupyter.widget-view+json": {
       "model_id": "ec01e6be4edc4e9d9c9a5c1727144158",
       "version_major": 2,
       "version_minor": 0
      },
      "text/plain": [
       "Batches:   0%|          | 0/1 [00:00<?, ?it/s]"
      ]
     },
     "metadata": {},
     "output_type": "display_data"
    },
    {
     "name": "stderr",
     "output_type": "stream",
     "text": [
      "Processing queries (Bi-Encoder):  59%|█████▉    | 126/214 [00:03<00:02, 36.83it/s]"
     ]
    },
    {
     "data": {
      "application/vnd.jupyter.widget-view+json": {
       "model_id": "ac37cec3b0a84d5481e8276aef1bff0a",
       "version_major": 2,
       "version_minor": 0
      },
      "text/plain": [
       "Batches:   0%|          | 0/1 [00:00<?, ?it/s]"
      ]
     },
     "metadata": {},
     "output_type": "display_data"
    },
    {
     "data": {
      "application/vnd.jupyter.widget-view+json": {
       "model_id": "29b1c73155bc4e89bf3eec18c7734fb8",
       "version_major": 2,
       "version_minor": 0
      },
      "text/plain": [
       "Batches:   0%|          | 0/1 [00:00<?, ?it/s]"
      ]
     },
     "metadata": {},
     "output_type": "display_data"
    },
    {
     "data": {
      "application/vnd.jupyter.widget-view+json": {
       "model_id": "5657a66ac2e1492a8c7f020396a7a6c2",
       "version_major": 2,
       "version_minor": 0
      },
      "text/plain": [
       "Batches:   0%|          | 0/1 [00:00<?, ?it/s]"
      ]
     },
     "metadata": {},
     "output_type": "display_data"
    },
    {
     "data": {
      "application/vnd.jupyter.widget-view+json": {
       "model_id": "eb7b34f54e52493bb7245b80d8a7145a",
       "version_major": 2,
       "version_minor": 0
      },
      "text/plain": [
       "Batches:   0%|          | 0/1 [00:00<?, ?it/s]"
      ]
     },
     "metadata": {},
     "output_type": "display_data"
    },
    {
     "name": "stderr",
     "output_type": "stream",
     "text": [
      "Processing queries (Bi-Encoder):  61%|██████    | 130/214 [00:03<00:02, 35.79it/s]"
     ]
    },
    {
     "data": {
      "application/vnd.jupyter.widget-view+json": {
       "model_id": "d011ff64903f4cca8160e909ef47e736",
       "version_major": 2,
       "version_minor": 0
      },
      "text/plain": [
       "Batches:   0%|          | 0/1 [00:00<?, ?it/s]"
      ]
     },
     "metadata": {},
     "output_type": "display_data"
    },
    {
     "data": {
      "application/vnd.jupyter.widget-view+json": {
       "model_id": "9ca5c8e4d33949f18219de0ccd701ed5",
       "version_major": 2,
       "version_minor": 0
      },
      "text/plain": [
       "Batches:   0%|          | 0/1 [00:00<?, ?it/s]"
      ]
     },
     "metadata": {},
     "output_type": "display_data"
    },
    {
     "data": {
      "application/vnd.jupyter.widget-view+json": {
       "model_id": "1b853a5b8469457ab402f1e1a473aec6",
       "version_major": 2,
       "version_minor": 0
      },
      "text/plain": [
       "Batches:   0%|          | 0/1 [00:00<?, ?it/s]"
      ]
     },
     "metadata": {},
     "output_type": "display_data"
    },
    {
     "data": {
      "application/vnd.jupyter.widget-view+json": {
       "model_id": "c29eaf389c1d42db8b9fe7bc51d6013d",
       "version_major": 2,
       "version_minor": 0
      },
      "text/plain": [
       "Batches:   0%|          | 0/1 [00:00<?, ?it/s]"
      ]
     },
     "metadata": {},
     "output_type": "display_data"
    },
    {
     "name": "stderr",
     "output_type": "stream",
     "text": [
      "Processing queries (Bi-Encoder):  63%|██████▎   | 134/214 [00:04<00:02, 34.99it/s]"
     ]
    },
    {
     "data": {
      "application/vnd.jupyter.widget-view+json": {
       "model_id": "1bb888a3bcc146afb05b5f458301c007",
       "version_major": 2,
       "version_minor": 0
      },
      "text/plain": [
       "Batches:   0%|          | 0/1 [00:00<?, ?it/s]"
      ]
     },
     "metadata": {},
     "output_type": "display_data"
    },
    {
     "data": {
      "application/vnd.jupyter.widget-view+json": {
       "model_id": "e1bfaa9f3d7e40a99df4bdc4dcddbf11",
       "version_major": 2,
       "version_minor": 0
      },
      "text/plain": [
       "Batches:   0%|          | 0/1 [00:00<?, ?it/s]"
      ]
     },
     "metadata": {},
     "output_type": "display_data"
    },
    {
     "data": {
      "application/vnd.jupyter.widget-view+json": {
       "model_id": "14c341f77fc848fb92f5f9fabd77112f",
       "version_major": 2,
       "version_minor": 0
      },
      "text/plain": [
       "Batches:   0%|          | 0/1 [00:00<?, ?it/s]"
      ]
     },
     "metadata": {},
     "output_type": "display_data"
    },
    {
     "data": {
      "application/vnd.jupyter.widget-view+json": {
       "model_id": "5417ab5b445b49e5acb00964cc0c5db5",
       "version_major": 2,
       "version_minor": 0
      },
      "text/plain": [
       "Batches:   0%|          | 0/1 [00:00<?, ?it/s]"
      ]
     },
     "metadata": {},
     "output_type": "display_data"
    },
    {
     "name": "stderr",
     "output_type": "stream",
     "text": [
      "Processing queries (Bi-Encoder):  64%|██████▍   | 138/214 [00:04<00:02, 34.71it/s]"
     ]
    },
    {
     "data": {
      "application/vnd.jupyter.widget-view+json": {
       "model_id": "cc5dbfb224ff4520b956637a57c00bc1",
       "version_major": 2,
       "version_minor": 0
      },
      "text/plain": [
       "Batches:   0%|          | 0/1 [00:00<?, ?it/s]"
      ]
     },
     "metadata": {},
     "output_type": "display_data"
    },
    {
     "data": {
      "application/vnd.jupyter.widget-view+json": {
       "model_id": "c59ec6c3c4614ff1a06671179179b8b9",
       "version_major": 2,
       "version_minor": 0
      },
      "text/plain": [
       "Batches:   0%|          | 0/1 [00:00<?, ?it/s]"
      ]
     },
     "metadata": {},
     "output_type": "display_data"
    },
    {
     "data": {
      "application/vnd.jupyter.widget-view+json": {
       "model_id": "bfd5f70832bb41f4b3cf00ec81023b0e",
       "version_major": 2,
       "version_minor": 0
      },
      "text/plain": [
       "Batches:   0%|          | 0/1 [00:00<?, ?it/s]"
      ]
     },
     "metadata": {},
     "output_type": "display_data"
    },
    {
     "data": {
      "application/vnd.jupyter.widget-view+json": {
       "model_id": "d4a502cbe02b45d3b69d7e51b7e287fd",
       "version_major": 2,
       "version_minor": 0
      },
      "text/plain": [
       "Batches:   0%|          | 0/1 [00:00<?, ?it/s]"
      ]
     },
     "metadata": {},
     "output_type": "display_data"
    },
    {
     "data": {
      "application/vnd.jupyter.widget-view+json": {
       "model_id": "fa253bb82be841aaa985414d7d373cf9",
       "version_major": 2,
       "version_minor": 0
      },
      "text/plain": [
       "Batches:   0%|          | 0/1 [00:00<?, ?it/s]"
      ]
     },
     "metadata": {},
     "output_type": "display_data"
    },
    {
     "name": "stderr",
     "output_type": "stream",
     "text": [
      "Processing queries (Bi-Encoder):  67%|██████▋   | 143/214 [00:04<00:01, 36.13it/s]"
     ]
    },
    {
     "data": {
      "application/vnd.jupyter.widget-view+json": {
       "model_id": "71a2e7738809405185f0c63ef26f8df5",
       "version_major": 2,
       "version_minor": 0
      },
      "text/plain": [
       "Batches:   0%|          | 0/1 [00:00<?, ?it/s]"
      ]
     },
     "metadata": {},
     "output_type": "display_data"
    },
    {
     "data": {
      "application/vnd.jupyter.widget-view+json": {
       "model_id": "05e1efb6bafb4637b6f2757f680f5ba9",
       "version_major": 2,
       "version_minor": 0
      },
      "text/plain": [
       "Batches:   0%|          | 0/1 [00:00<?, ?it/s]"
      ]
     },
     "metadata": {},
     "output_type": "display_data"
    },
    {
     "data": {
      "application/vnd.jupyter.widget-view+json": {
       "model_id": "d79cd164a2f94e478ba46806a2dee15f",
       "version_major": 2,
       "version_minor": 0
      },
      "text/plain": [
       "Batches:   0%|          | 0/1 [00:00<?, ?it/s]"
      ]
     },
     "metadata": {},
     "output_type": "display_data"
    },
    {
     "data": {
      "application/vnd.jupyter.widget-view+json": {
       "model_id": "57bd04e4850d4d949d3ccfe91494ee6f",
       "version_major": 2,
       "version_minor": 0
      },
      "text/plain": [
       "Batches:   0%|          | 0/1 [00:00<?, ?it/s]"
      ]
     },
     "metadata": {},
     "output_type": "display_data"
    },
    {
     "name": "stderr",
     "output_type": "stream",
     "text": [
      "Processing queries (Bi-Encoder):  69%|██████▊   | 147/214 [00:04<00:01, 36.98it/s]"
     ]
    },
    {
     "data": {
      "application/vnd.jupyter.widget-view+json": {
       "model_id": "c81f156574e640159e58e89fa7c5ccc8",
       "version_major": 2,
       "version_minor": 0
      },
      "text/plain": [
       "Batches:   0%|          | 0/1 [00:00<?, ?it/s]"
      ]
     },
     "metadata": {},
     "output_type": "display_data"
    },
    {
     "data": {
      "application/vnd.jupyter.widget-view+json": {
       "model_id": "255ef7ea27be49b88eb527f0920eedae",
       "version_major": 2,
       "version_minor": 0
      },
      "text/plain": [
       "Batches:   0%|          | 0/1 [00:00<?, ?it/s]"
      ]
     },
     "metadata": {},
     "output_type": "display_data"
    },
    {
     "data": {
      "application/vnd.jupyter.widget-view+json": {
       "model_id": "594d0bc7fce34b6f81ff877f8b24f304",
       "version_major": 2,
       "version_minor": 0
      },
      "text/plain": [
       "Batches:   0%|          | 0/1 [00:00<?, ?it/s]"
      ]
     },
     "metadata": {},
     "output_type": "display_data"
    },
    {
     "data": {
      "application/vnd.jupyter.widget-view+json": {
       "model_id": "4f890d938f3848bca76f2cd1a1eb5a75",
       "version_major": 2,
       "version_minor": 0
      },
      "text/plain": [
       "Batches:   0%|          | 0/1 [00:00<?, ?it/s]"
      ]
     },
     "metadata": {},
     "output_type": "display_data"
    },
    {
     "name": "stderr",
     "output_type": "stream",
     "text": [
      "Processing queries (Bi-Encoder):  71%|███████   | 151/214 [00:04<00:01, 37.02it/s]"
     ]
    },
    {
     "data": {
      "application/vnd.jupyter.widget-view+json": {
       "model_id": "69bfb9186cef45a58a87fefeb37e4c75",
       "version_major": 2,
       "version_minor": 0
      },
      "text/plain": [
       "Batches:   0%|          | 0/1 [00:00<?, ?it/s]"
      ]
     },
     "metadata": {},
     "output_type": "display_data"
    },
    {
     "data": {
      "application/vnd.jupyter.widget-view+json": {
       "model_id": "93b1dcf8be5e48ef80dd09afb409ff74",
       "version_major": 2,
       "version_minor": 0
      },
      "text/plain": [
       "Batches:   0%|          | 0/1 [00:00<?, ?it/s]"
      ]
     },
     "metadata": {},
     "output_type": "display_data"
    },
    {
     "data": {
      "application/vnd.jupyter.widget-view+json": {
       "model_id": "c2980b10b4634d4eb5edebdf9f90648c",
       "version_major": 2,
       "version_minor": 0
      },
      "text/plain": [
       "Batches:   0%|          | 0/1 [00:00<?, ?it/s]"
      ]
     },
     "metadata": {},
     "output_type": "display_data"
    },
    {
     "data": {
      "application/vnd.jupyter.widget-view+json": {
       "model_id": "d6fcf0a9d273448d9138b5b961859355",
       "version_major": 2,
       "version_minor": 0
      },
      "text/plain": [
       "Batches:   0%|          | 0/1 [00:00<?, ?it/s]"
      ]
     },
     "metadata": {},
     "output_type": "display_data"
    },
    {
     "name": "stderr",
     "output_type": "stream",
     "text": [
      "Processing queries (Bi-Encoder):  72%|███████▏  | 155/214 [00:04<00:01, 36.22it/s]"
     ]
    },
    {
     "data": {
      "application/vnd.jupyter.widget-view+json": {
       "model_id": "00a924967c1540f390fc2dcb4e1f078a",
       "version_major": 2,
       "version_minor": 0
      },
      "text/plain": [
       "Batches:   0%|          | 0/1 [00:00<?, ?it/s]"
      ]
     },
     "metadata": {},
     "output_type": "display_data"
    },
    {
     "data": {
      "application/vnd.jupyter.widget-view+json": {
       "model_id": "ec1cbbe6788843dbbfab6239d50f6de8",
       "version_major": 2,
       "version_minor": 0
      },
      "text/plain": [
       "Batches:   0%|          | 0/1 [00:00<?, ?it/s]"
      ]
     },
     "metadata": {},
     "output_type": "display_data"
    },
    {
     "data": {
      "application/vnd.jupyter.widget-view+json": {
       "model_id": "683f0bcc1ff04df199711a99d8e80fb1",
       "version_major": 2,
       "version_minor": 0
      },
      "text/plain": [
       "Batches:   0%|          | 0/1 [00:00<?, ?it/s]"
      ]
     },
     "metadata": {},
     "output_type": "display_data"
    },
    {
     "data": {
      "application/vnd.jupyter.widget-view+json": {
       "model_id": "2569a6412d1a47c998f60883fd2424e4",
       "version_major": 2,
       "version_minor": 0
      },
      "text/plain": [
       "Batches:   0%|          | 0/1 [00:00<?, ?it/s]"
      ]
     },
     "metadata": {},
     "output_type": "display_data"
    },
    {
     "name": "stderr",
     "output_type": "stream",
     "text": [
      "Processing queries (Bi-Encoder):  74%|███████▍  | 159/214 [00:04<00:01, 33.67it/s]"
     ]
    },
    {
     "data": {
      "application/vnd.jupyter.widget-view+json": {
       "model_id": "8016e5c3927c423b8837f99453264257",
       "version_major": 2,
       "version_minor": 0
      },
      "text/plain": [
       "Batches:   0%|          | 0/1 [00:00<?, ?it/s]"
      ]
     },
     "metadata": {},
     "output_type": "display_data"
    },
    {
     "data": {
      "application/vnd.jupyter.widget-view+json": {
       "model_id": "8ba21889601a4ffbb5e95fdf454be0f7",
       "version_major": 2,
       "version_minor": 0
      },
      "text/plain": [
       "Batches:   0%|          | 0/1 [00:00<?, ?it/s]"
      ]
     },
     "metadata": {},
     "output_type": "display_data"
    },
    {
     "data": {
      "application/vnd.jupyter.widget-view+json": {
       "model_id": "7e669e1cbe674efaa5ce09f78a61a668",
       "version_major": 2,
       "version_minor": 0
      },
      "text/plain": [
       "Batches:   0%|          | 0/1 [00:00<?, ?it/s]"
      ]
     },
     "metadata": {},
     "output_type": "display_data"
    },
    {
     "data": {
      "application/vnd.jupyter.widget-view+json": {
       "model_id": "42dcd30343a8461483add103b520fdea",
       "version_major": 2,
       "version_minor": 0
      },
      "text/plain": [
       "Batches:   0%|          | 0/1 [00:00<?, ?it/s]"
      ]
     },
     "metadata": {},
     "output_type": "display_data"
    },
    {
     "name": "stderr",
     "output_type": "stream",
     "text": [
      "Processing queries (Bi-Encoder):  76%|███████▌  | 163/214 [00:04<00:01, 33.63it/s]"
     ]
    },
    {
     "data": {
      "application/vnd.jupyter.widget-view+json": {
       "model_id": "5e3a0b5cad1745f2871cb02030dbee24",
       "version_major": 2,
       "version_minor": 0
      },
      "text/plain": [
       "Batches:   0%|          | 0/1 [00:00<?, ?it/s]"
      ]
     },
     "metadata": {},
     "output_type": "display_data"
    },
    {
     "data": {
      "application/vnd.jupyter.widget-view+json": {
       "model_id": "5c06f88a768c43c299fba95890abe60e",
       "version_major": 2,
       "version_minor": 0
      },
      "text/plain": [
       "Batches:   0%|          | 0/1 [00:00<?, ?it/s]"
      ]
     },
     "metadata": {},
     "output_type": "display_data"
    },
    {
     "data": {
      "application/vnd.jupyter.widget-view+json": {
       "model_id": "bc62fd87abee4e109c4d40d6548b3eba",
       "version_major": 2,
       "version_minor": 0
      },
      "text/plain": [
       "Batches:   0%|          | 0/1 [00:00<?, ?it/s]"
      ]
     },
     "metadata": {},
     "output_type": "display_data"
    },
    {
     "data": {
      "application/vnd.jupyter.widget-view+json": {
       "model_id": "f9fc1e2f058b4e6d864b1f95c5de4261",
       "version_major": 2,
       "version_minor": 0
      },
      "text/plain": [
       "Batches:   0%|          | 0/1 [00:00<?, ?it/s]"
      ]
     },
     "metadata": {},
     "output_type": "display_data"
    },
    {
     "name": "stderr",
     "output_type": "stream",
     "text": [
      "Processing queries (Bi-Encoder):  78%|███████▊  | 167/214 [00:05<00:01, 34.11it/s]"
     ]
    },
    {
     "data": {
      "application/vnd.jupyter.widget-view+json": {
       "model_id": "5203d4221cff4044bc64d9289caffdc0",
       "version_major": 2,
       "version_minor": 0
      },
      "text/plain": [
       "Batches:   0%|          | 0/1 [00:00<?, ?it/s]"
      ]
     },
     "metadata": {},
     "output_type": "display_data"
    },
    {
     "data": {
      "application/vnd.jupyter.widget-view+json": {
       "model_id": "5d953b455cef487da6d00c23ed615f71",
       "version_major": 2,
       "version_minor": 0
      },
      "text/plain": [
       "Batches:   0%|          | 0/1 [00:00<?, ?it/s]"
      ]
     },
     "metadata": {},
     "output_type": "display_data"
    },
    {
     "data": {
      "application/vnd.jupyter.widget-view+json": {
       "model_id": "a79cde91d9e74b87a4c2c1be044147b8",
       "version_major": 2,
       "version_minor": 0
      },
      "text/plain": [
       "Batches:   0%|          | 0/1 [00:00<?, ?it/s]"
      ]
     },
     "metadata": {},
     "output_type": "display_data"
    },
    {
     "data": {
      "application/vnd.jupyter.widget-view+json": {
       "model_id": "d6f09f01aa484019bafc5d9f66d18c83",
       "version_major": 2,
       "version_minor": 0
      },
      "text/plain": [
       "Batches:   0%|          | 0/1 [00:00<?, ?it/s]"
      ]
     },
     "metadata": {},
     "output_type": "display_data"
    },
    {
     "name": "stderr",
     "output_type": "stream",
     "text": [
      "Processing queries (Bi-Encoder):  80%|███████▉  | 171/214 [00:05<00:01, 35.10it/s]"
     ]
    },
    {
     "data": {
      "application/vnd.jupyter.widget-view+json": {
       "model_id": "84f1fd4915f042aa8c728fa3355da728",
       "version_major": 2,
       "version_minor": 0
      },
      "text/plain": [
       "Batches:   0%|          | 0/1 [00:00<?, ?it/s]"
      ]
     },
     "metadata": {},
     "output_type": "display_data"
    },
    {
     "data": {
      "application/vnd.jupyter.widget-view+json": {
       "model_id": "422a59a06f4a4ed0a9f68b731746e1ba",
       "version_major": 2,
       "version_minor": 0
      },
      "text/plain": [
       "Batches:   0%|          | 0/1 [00:00<?, ?it/s]"
      ]
     },
     "metadata": {},
     "output_type": "display_data"
    },
    {
     "data": {
      "application/vnd.jupyter.widget-view+json": {
       "model_id": "f11d5fa123414d488dcd35ec4c1c8532",
       "version_major": 2,
       "version_minor": 0
      },
      "text/plain": [
       "Batches:   0%|          | 0/1 [00:00<?, ?it/s]"
      ]
     },
     "metadata": {},
     "output_type": "display_data"
    },
    {
     "data": {
      "application/vnd.jupyter.widget-view+json": {
       "model_id": "83396dfce32144d199ea5674830e77f3",
       "version_major": 2,
       "version_minor": 0
      },
      "text/plain": [
       "Batches:   0%|          | 0/1 [00:00<?, ?it/s]"
      ]
     },
     "metadata": {},
     "output_type": "display_data"
    },
    {
     "name": "stderr",
     "output_type": "stream",
     "text": [
      "Processing queries (Bi-Encoder):  82%|████████▏ | 175/214 [00:05<00:01, 35.78it/s]"
     ]
    },
    {
     "data": {
      "application/vnd.jupyter.widget-view+json": {
       "model_id": "83e6fe1b4a604e408ff71ccd1de3322a",
       "version_major": 2,
       "version_minor": 0
      },
      "text/plain": [
       "Batches:   0%|          | 0/1 [00:00<?, ?it/s]"
      ]
     },
     "metadata": {},
     "output_type": "display_data"
    },
    {
     "data": {
      "application/vnd.jupyter.widget-view+json": {
       "model_id": "3054128d30e74c3e83eec3500500bb34",
       "version_major": 2,
       "version_minor": 0
      },
      "text/plain": [
       "Batches:   0%|          | 0/1 [00:00<?, ?it/s]"
      ]
     },
     "metadata": {},
     "output_type": "display_data"
    },
    {
     "data": {
      "application/vnd.jupyter.widget-view+json": {
       "model_id": "5c76295a61b94316a9e7471b8f9ee800",
       "version_major": 2,
       "version_minor": 0
      },
      "text/plain": [
       "Batches:   0%|          | 0/1 [00:00<?, ?it/s]"
      ]
     },
     "metadata": {},
     "output_type": "display_data"
    },
    {
     "data": {
      "application/vnd.jupyter.widget-view+json": {
       "model_id": "1a5bd078efb146d984c3213002baa351",
       "version_major": 2,
       "version_minor": 0
      },
      "text/plain": [
       "Batches:   0%|          | 0/1 [00:00<?, ?it/s]"
      ]
     },
     "metadata": {},
     "output_type": "display_data"
    },
    {
     "name": "stderr",
     "output_type": "stream",
     "text": [
      "Processing queries (Bi-Encoder):  84%|████████▎ | 179/214 [00:05<00:00, 35.13it/s]"
     ]
    },
    {
     "data": {
      "application/vnd.jupyter.widget-view+json": {
       "model_id": "a4c2888bc7294149b6a110834da5b277",
       "version_major": 2,
       "version_minor": 0
      },
      "text/plain": [
       "Batches:   0%|          | 0/1 [00:00<?, ?it/s]"
      ]
     },
     "metadata": {},
     "output_type": "display_data"
    },
    {
     "data": {
      "application/vnd.jupyter.widget-view+json": {
       "model_id": "118715c015074149a41700ffee5e6152",
       "version_major": 2,
       "version_minor": 0
      },
      "text/plain": [
       "Batches:   0%|          | 0/1 [00:00<?, ?it/s]"
      ]
     },
     "metadata": {},
     "output_type": "display_data"
    },
    {
     "data": {
      "application/vnd.jupyter.widget-view+json": {
       "model_id": "e4f92008797b471c99d6fe6b50fecae6",
       "version_major": 2,
       "version_minor": 0
      },
      "text/plain": [
       "Batches:   0%|          | 0/1 [00:00<?, ?it/s]"
      ]
     },
     "metadata": {},
     "output_type": "display_data"
    },
    {
     "data": {
      "application/vnd.jupyter.widget-view+json": {
       "model_id": "4c7afc5114694d8abce571bda971b7a1",
       "version_major": 2,
       "version_minor": 0
      },
      "text/plain": [
       "Batches:   0%|          | 0/1 [00:00<?, ?it/s]"
      ]
     },
     "metadata": {},
     "output_type": "display_data"
    },
    {
     "name": "stderr",
     "output_type": "stream",
     "text": [
      "Processing queries (Bi-Encoder):  86%|████████▌ | 183/214 [00:05<00:00, 34.04it/s]"
     ]
    },
    {
     "data": {
      "application/vnd.jupyter.widget-view+json": {
       "model_id": "49c0b90c4c054b15936af1b6e41c89d8",
       "version_major": 2,
       "version_minor": 0
      },
      "text/plain": [
       "Batches:   0%|          | 0/1 [00:00<?, ?it/s]"
      ]
     },
     "metadata": {},
     "output_type": "display_data"
    },
    {
     "data": {
      "application/vnd.jupyter.widget-view+json": {
       "model_id": "128865a5353d42b39f9d09e0685e58aa",
       "version_major": 2,
       "version_minor": 0
      },
      "text/plain": [
       "Batches:   0%|          | 0/1 [00:00<?, ?it/s]"
      ]
     },
     "metadata": {},
     "output_type": "display_data"
    },
    {
     "data": {
      "application/vnd.jupyter.widget-view+json": {
       "model_id": "d0a1c10c6db345c7ad3596e22e3b456f",
       "version_major": 2,
       "version_minor": 0
      },
      "text/plain": [
       "Batches:   0%|          | 0/1 [00:00<?, ?it/s]"
      ]
     },
     "metadata": {},
     "output_type": "display_data"
    },
    {
     "data": {
      "application/vnd.jupyter.widget-view+json": {
       "model_id": "f7c1bf6b08414ad68d22a1e4279f3a5d",
       "version_major": 2,
       "version_minor": 0
      },
      "text/plain": [
       "Batches:   0%|          | 0/1 [00:00<?, ?it/s]"
      ]
     },
     "metadata": {},
     "output_type": "display_data"
    },
    {
     "name": "stderr",
     "output_type": "stream",
     "text": [
      "Processing queries (Bi-Encoder):  87%|████████▋ | 187/214 [00:05<00:00, 35.46it/s]"
     ]
    },
    {
     "data": {
      "application/vnd.jupyter.widget-view+json": {
       "model_id": "c06ea351c1614b0d98ca9455aacfbb97",
       "version_major": 2,
       "version_minor": 0
      },
      "text/plain": [
       "Batches:   0%|          | 0/1 [00:00<?, ?it/s]"
      ]
     },
     "metadata": {},
     "output_type": "display_data"
    },
    {
     "data": {
      "application/vnd.jupyter.widget-view+json": {
       "model_id": "fc6cff23223d46448279fa5c199bda49",
       "version_major": 2,
       "version_minor": 0
      },
      "text/plain": [
       "Batches:   0%|          | 0/1 [00:00<?, ?it/s]"
      ]
     },
     "metadata": {},
     "output_type": "display_data"
    },
    {
     "data": {
      "application/vnd.jupyter.widget-view+json": {
       "model_id": "5e8784db495440c6b232d970201e1ec8",
       "version_major": 2,
       "version_minor": 0
      },
      "text/plain": [
       "Batches:   0%|          | 0/1 [00:00<?, ?it/s]"
      ]
     },
     "metadata": {},
     "output_type": "display_data"
    },
    {
     "data": {
      "application/vnd.jupyter.widget-view+json": {
       "model_id": "1f26b554abac4c2cb35c3afed4291494",
       "version_major": 2,
       "version_minor": 0
      },
      "text/plain": [
       "Batches:   0%|          | 0/1 [00:00<?, ?it/s]"
      ]
     },
     "metadata": {},
     "output_type": "display_data"
    },
    {
     "name": "stderr",
     "output_type": "stream",
     "text": [
      "Processing queries (Bi-Encoder):  89%|████████▉ | 191/214 [00:05<00:00, 35.38it/s]"
     ]
    },
    {
     "data": {
      "application/vnd.jupyter.widget-view+json": {
       "model_id": "4927425b22674b21884d1d9ac5445e75",
       "version_major": 2,
       "version_minor": 0
      },
      "text/plain": [
       "Batches:   0%|          | 0/1 [00:00<?, ?it/s]"
      ]
     },
     "metadata": {},
     "output_type": "display_data"
    },
    {
     "data": {
      "application/vnd.jupyter.widget-view+json": {
       "model_id": "f312de24757c47f38a8be940da328cd7",
       "version_major": 2,
       "version_minor": 0
      },
      "text/plain": [
       "Batches:   0%|          | 0/1 [00:00<?, ?it/s]"
      ]
     },
     "metadata": {},
     "output_type": "display_data"
    },
    {
     "data": {
      "application/vnd.jupyter.widget-view+json": {
       "model_id": "d37dc822347d44858df6903a499398e1",
       "version_major": 2,
       "version_minor": 0
      },
      "text/plain": [
       "Batches:   0%|          | 0/1 [00:00<?, ?it/s]"
      ]
     },
     "metadata": {},
     "output_type": "display_data"
    },
    {
     "data": {
      "application/vnd.jupyter.widget-view+json": {
       "model_id": "2b2b15cba6434fc6956703d070f0c71d",
       "version_major": 2,
       "version_minor": 0
      },
      "text/plain": [
       "Batches:   0%|          | 0/1 [00:00<?, ?it/s]"
      ]
     },
     "metadata": {},
     "output_type": "display_data"
    },
    {
     "name": "stderr",
     "output_type": "stream",
     "text": [
      "Processing queries (Bi-Encoder):  91%|█████████ | 195/214 [00:05<00:00, 35.00it/s]"
     ]
    },
    {
     "data": {
      "application/vnd.jupyter.widget-view+json": {
       "model_id": "af9786cf464849c6ab8f207fea798c15",
       "version_major": 2,
       "version_minor": 0
      },
      "text/plain": [
       "Batches:   0%|          | 0/1 [00:00<?, ?it/s]"
      ]
     },
     "metadata": {},
     "output_type": "display_data"
    },
    {
     "data": {
      "application/vnd.jupyter.widget-view+json": {
       "model_id": "decdd3728e664151b262d91b5bd95b5e",
       "version_major": 2,
       "version_minor": 0
      },
      "text/plain": [
       "Batches:   0%|          | 0/1 [00:00<?, ?it/s]"
      ]
     },
     "metadata": {},
     "output_type": "display_data"
    },
    {
     "data": {
      "application/vnd.jupyter.widget-view+json": {
       "model_id": "7514958e327e42c0a23d349e9746639f",
       "version_major": 2,
       "version_minor": 0
      },
      "text/plain": [
       "Batches:   0%|          | 0/1 [00:00<?, ?it/s]"
      ]
     },
     "metadata": {},
     "output_type": "display_data"
    },
    {
     "data": {
      "application/vnd.jupyter.widget-view+json": {
       "model_id": "7e7184cdc50b40e9a0ebffd7198d7e49",
       "version_major": 2,
       "version_minor": 0
      },
      "text/plain": [
       "Batches:   0%|          | 0/1 [00:00<?, ?it/s]"
      ]
     },
     "metadata": {},
     "output_type": "display_data"
    },
    {
     "name": "stderr",
     "output_type": "stream",
     "text": [
      "Processing queries (Bi-Encoder):  93%|█████████▎| 199/214 [00:05<00:00, 35.39it/s]"
     ]
    },
    {
     "data": {
      "application/vnd.jupyter.widget-view+json": {
       "model_id": "bd3383d273e2460e844beefad02f8931",
       "version_major": 2,
       "version_minor": 0
      },
      "text/plain": [
       "Batches:   0%|          | 0/1 [00:00<?, ?it/s]"
      ]
     },
     "metadata": {},
     "output_type": "display_data"
    },
    {
     "data": {
      "application/vnd.jupyter.widget-view+json": {
       "model_id": "5bb4639eacd14556be48901f5a683d68",
       "version_major": 2,
       "version_minor": 0
      },
      "text/plain": [
       "Batches:   0%|          | 0/1 [00:00<?, ?it/s]"
      ]
     },
     "metadata": {},
     "output_type": "display_data"
    },
    {
     "data": {
      "application/vnd.jupyter.widget-view+json": {
       "model_id": "0d83244bb8244b1898e27fdcb91fee0d",
       "version_major": 2,
       "version_minor": 0
      },
      "text/plain": [
       "Batches:   0%|          | 0/1 [00:00<?, ?it/s]"
      ]
     },
     "metadata": {},
     "output_type": "display_data"
    },
    {
     "data": {
      "application/vnd.jupyter.widget-view+json": {
       "model_id": "19a76d140a644cca954facb8ff69aacb",
       "version_major": 2,
       "version_minor": 0
      },
      "text/plain": [
       "Batches:   0%|          | 0/1 [00:00<?, ?it/s]"
      ]
     },
     "metadata": {},
     "output_type": "display_data"
    },
    {
     "name": "stderr",
     "output_type": "stream",
     "text": [
      "Processing queries (Bi-Encoder):  95%|█████████▍| 203/214 [00:06<00:00, 33.08it/s]"
     ]
    },
    {
     "data": {
      "application/vnd.jupyter.widget-view+json": {
       "model_id": "62e42fbf80974c848e294396e36a5888",
       "version_major": 2,
       "version_minor": 0
      },
      "text/plain": [
       "Batches:   0%|          | 0/1 [00:00<?, ?it/s]"
      ]
     },
     "metadata": {},
     "output_type": "display_data"
    },
    {
     "data": {
      "application/vnd.jupyter.widget-view+json": {
       "model_id": "0fbe57bb7db14815aec1786541789cae",
       "version_major": 2,
       "version_minor": 0
      },
      "text/plain": [
       "Batches:   0%|          | 0/1 [00:00<?, ?it/s]"
      ]
     },
     "metadata": {},
     "output_type": "display_data"
    },
    {
     "data": {
      "application/vnd.jupyter.widget-view+json": {
       "model_id": "828afd030555493c991ff8e0876f84fd",
       "version_major": 2,
       "version_minor": 0
      },
      "text/plain": [
       "Batches:   0%|          | 0/1 [00:00<?, ?it/s]"
      ]
     },
     "metadata": {},
     "output_type": "display_data"
    },
    {
     "data": {
      "application/vnd.jupyter.widget-view+json": {
       "model_id": "7c7de29430c8420eacdf1bfc615d6b0e",
       "version_major": 2,
       "version_minor": 0
      },
      "text/plain": [
       "Batches:   0%|          | 0/1 [00:00<?, ?it/s]"
      ]
     },
     "metadata": {},
     "output_type": "display_data"
    },
    {
     "name": "stderr",
     "output_type": "stream",
     "text": [
      "Processing queries (Bi-Encoder):  97%|█████████▋| 207/214 [00:06<00:00, 33.44it/s]"
     ]
    },
    {
     "data": {
      "application/vnd.jupyter.widget-view+json": {
       "model_id": "4ee64134dcf64ee59443fe3989ccc389",
       "version_major": 2,
       "version_minor": 0
      },
      "text/plain": [
       "Batches:   0%|          | 0/1 [00:00<?, ?it/s]"
      ]
     },
     "metadata": {},
     "output_type": "display_data"
    },
    {
     "data": {
      "application/vnd.jupyter.widget-view+json": {
       "model_id": "9845bff0840f4c47960d6759dfc13a64",
       "version_major": 2,
       "version_minor": 0
      },
      "text/plain": [
       "Batches:   0%|          | 0/1 [00:00<?, ?it/s]"
      ]
     },
     "metadata": {},
     "output_type": "display_data"
    },
    {
     "data": {
      "application/vnd.jupyter.widget-view+json": {
       "model_id": "491196e1413b471e81f40a4732d3093e",
       "version_major": 2,
       "version_minor": 0
      },
      "text/plain": [
       "Batches:   0%|          | 0/1 [00:00<?, ?it/s]"
      ]
     },
     "metadata": {},
     "output_type": "display_data"
    },
    {
     "data": {
      "application/vnd.jupyter.widget-view+json": {
       "model_id": "3cb9e5d167fd473994148726950299aa",
       "version_major": 2,
       "version_minor": 0
      },
      "text/plain": [
       "Batches:   0%|          | 0/1 [00:00<?, ?it/s]"
      ]
     },
     "metadata": {},
     "output_type": "display_data"
    },
    {
     "name": "stderr",
     "output_type": "stream",
     "text": [
      "Processing queries (Bi-Encoder):  99%|█████████▊| 211/214 [00:06<00:00, 33.11it/s]"
     ]
    },
    {
     "data": {
      "application/vnd.jupyter.widget-view+json": {
       "model_id": "d2362ac844874cfb92b072eed7356552",
       "version_major": 2,
       "version_minor": 0
      },
      "text/plain": [
       "Batches:   0%|          | 0/1 [00:00<?, ?it/s]"
      ]
     },
     "metadata": {},
     "output_type": "display_data"
    },
    {
     "data": {
      "application/vnd.jupyter.widget-view+json": {
       "model_id": "b4bd2e892df54786bd35dab05c805dfc",
       "version_major": 2,
       "version_minor": 0
      },
      "text/plain": [
       "Batches:   0%|          | 0/1 [00:00<?, ?it/s]"
      ]
     },
     "metadata": {},
     "output_type": "display_data"
    },
    {
     "data": {
      "application/vnd.jupyter.widget-view+json": {
       "model_id": "fcc884f3e92645a796f8b5d74c70c779",
       "version_major": 2,
       "version_minor": 0
      },
      "text/plain": [
       "Batches:   0%|          | 0/1 [00:00<?, ?it/s]"
      ]
     },
     "metadata": {},
     "output_type": "display_data"
    },
    {
     "name": "stderr",
     "output_type": "stream",
     "text": [
      "                                                                                  "
     ]
    },
    {
     "name": "stdout",
     "output_type": "stream",
     "text": [
      "31/10/2025 02:10:26 AM - INFO - OntoMapBIE: Bi-Encoder Results Generated\n",
      "31/10/2025 02:10:26 AM - INFO - OntoMapEngine: Stage 3 completed: 20 queries\n",
      "31/10/2025 02:10:26 AM - INFO - OntoMapEngine: ==================================================\n",
      "31/10/2025 02:10:26 AM - INFO - OntoMapEngine: FINAL SUMMARY\n",
      "31/10/2025 02:10:26 AM - INFO - OntoMapEngine: ==================================================\n",
      "31/10/2025 02:10:26 AM - INFO - OntoMapEngine: Stage 1 (Exact): 66 queries\n",
      "31/10/2025 02:10:26 AM - INFO - OntoMapEngine: Stage 2 (ST): 78 queries\n",
      "31/10/2025 02:10:26 AM - INFO - OntoMapEngine: Stage 3 (RAG_BIE): 20 queries\n"
     ]
    },
    {
     "name": "stderr",
     "output_type": "stream",
     "text": [
      "\r"
     ]
    }
   ],
   "source": [
    "# rag_bie Strategy: Need corpus_df for concept retrieval and query_df for query enrichment.\n",
    "\n",
    "# Example: \n",
    "\n",
    "# Note: rag_bie is a query-enriched variant of RAG, so we have to use query with expanded fields.\n",
    "query_df = pd.read_csv(\"data/corpus/cbio_disease/query_with_selected_fields_for_bie.csv\")\n",
    "large_corpus = pd.read_csv(\n",
    "    'data/corpus/cbio_disease/disease_corpus_updated.csv')\n",
    "\n",
    "query_list = query_df['original_cancer_type_value'].tolist() # TODO: use a common schema for all strategies.\n",
    "large_corpus_list = large_corpus['official_label'].tolist() \n",
    "\n",
    "cura_map = dict(zip(query_df['original_cancer_type_value'], query_df['official_label']))\n",
    "\n",
    "# run rag_bie strategy:\n",
    "other_params = {\"test_or_prod\": \"test\"}\n",
    "onto_engine_large = OntoMapEngine(method='pubmed-bert',\n",
    "                                      category='disease',\n",
    "                                      topk=20,\n",
    "                                      query=query_list,\n",
    "                                      corpus=large_corpus_list,\n",
    "                                      cura_map=cura_map,\n",
    "                                      s2_strategy='st',\n",
    "                                      s3_strategy='rag_bie',\n",
    "                                      s3_threshold=0.95,\n",
    "                                      corpus_df=large_corpus,\n",
    "                                      query_df=query_df,\n",
    "                                      **other_params)\n",
    "pubmedbert_rag_bie_result = onto_engine_large.run()"
   ]
  },
  {
   "cell_type": "code",
   "execution_count": 13,
   "id": "ac4da85e",
   "metadata": {},
   "outputs": [
    {
     "name": "stdout",
     "output_type": "stream",
     "text": [
      "  Accuracy Level   Accuracy\n",
      "0    Top 1 Match  76.219512\n",
      "1  Top 3 Matches  77.439024\n",
      "2  Top 5 Matches  82.926829\n"
     ]
    }
   ],
   "source": [
    "pubmedbert_rag_bie_accuracy_df = calc.calc_accuracy(pubmedbert_rag_bie_result)\n",
    "print(pubmedbert_rag_bie_accuracy_df)"
   ]
  },
  {
   "cell_type": "markdown",
   "id": "a7566c09",
   "metadata": {},
   "source": [
    "Workflow Code"
   ]
  },
  {
   "cell_type": "code",
   "execution_count": 12,
   "id": "7a9e95d1",
   "metadata": {},
   "outputs": [
    {
     "name": "stdout",
     "output_type": "stream",
     "text": [
      "Flowchart saved as 'ontology_mapping_3stage_workflow.png'\n"
     ]
    }
   ],
   "source": [
    "from graphviz import Digraph\n",
    "\n",
    "dot = Digraph(comment='3-Stage Ontology Mapping Workflow')\n",
    "dot.attr(rankdir='TB', fontsize='10', fontname='Helvetica')\n",
    "\n",
    "# Input\n",
    "dot.node('A', 'Input Arguments\\n(query, corpus, s2_strategy, s3_strategy, s3_threshold)', shape='box', style='filled', fillcolor='lightgray')\n",
    "\n",
    "# ========== Stage 1 ==========\n",
    "with dot.subgraph(name='cluster_s1') as s1:\n",
    "    s1.attr(label='Stage 1: Exact Matching', style='filled', fillcolor='lightblue', fontsize='11')\n",
    "    s1.node('S1_EXACT', 'Exact Match?', shape='diamond')\n",
    "    s1.node('S1_MATCHED', 'Exact Matched Terms\\n(stage=1)', shape='box', style='filled', fillcolor='lightgreen')\n",
    "\n",
    "# ========== Stage 2 ==========\n",
    "with dot.subgraph(name='cluster_s2') as s2:\n",
    "    s2.attr(label='Stage 2: LM/ST (Transformer-based)', style='filled', fillcolor='lightyellow', fontsize='11')\n",
    "    s2.node('S2_ABBR', 'Replace Abbreviations\\n(via abbreviation dict)', shape='box')\n",
    "    s2.node('S2_STRATEGY', 'Choose s2_strategy:\\nLM or ST', shape='box', style='filled', fillcolor='orange')\n",
    "    s2.node('S2_FAISS', 'Check FAISS Index &\\nSQLite Table', shape='box')\n",
    "    s2.node('S2_BUILD', 'Encode Corpus Terms\\n→ Store in FAISS & SQLite', shape='box')\n",
    "    s2.node('S2_CHECK', 'Check Completeness\\n→ Append Missing if Needed', shape='box')\n",
    "    s2.node('S2_ENCODE', 'Encode Query Terms', shape='box', style='filled', fillcolor='lightyellow')\n",
    "    s2.node('S2_SEARCH', 'FAISS Search\\n(Get top-k matches + scores)', shape='ellipse', style='filled', fillcolor='orange')\n",
    "    s2.node('S2_RESULT', 'Stage 2 Results\\n(stage=2, with top1_score)', shape='box', style='filled', fillcolor='lightgreen')\n",
    "\n",
    "# ========== Stage 3 ==========\n",
    "with dot.subgraph(name='cluster_s3') as s3:\n",
    "    s3.attr(label='Stage 3: RAG/RAG_BIE (Optional, for low-confidence queries)', style='filled', fillcolor='lightcoral', fontsize='11')\n",
    "    s3.node('S3_CHECK', 'top1_score < s3_threshold?', shape='diamond')\n",
    "    s3.node('S3_SKIP', 'Skip Stage 3', shape='box', style='dashed')\n",
    "    s3.node('S3_ABBR', 'Replace Abbreviations\\nfor low-confidence queries', shape='box')\n",
    "    s3.node('S3_STRATEGY', 'Choose s3_strategy:\\nRAG or RAG_BIE', shape='box', style='filled', fillcolor='orange')\n",
    "    s3.node('S3_FAISS', 'Check FAISS Index &\\nSQLite Table', shape='box')\n",
    "    s3.node('S3_BUILD', 'Encode Corpus Contexts\\n→ Store in FAISS & SQLite', shape='box')\n",
    "    s3.node('S3_CHECK_DB', 'Check Completeness\\n→ Append Missing if Needed', shape='box')\n",
    "    s3.node('S3_ENCODE_RAG', 'RAG:\\nEncode Query Terms', shape='box', style='filled', fillcolor='lightcoral')\n",
    "    s3.node('S3_ENCODE_RAGBIE', 'RAG_BIE:\\nEnrich + Encode Query', shape='box', style='filled', fillcolor='lightcoral')\n",
    "    s3.node('S3_SEARCH', 'FAISS Search\\n(Get top-k matches + scores)', shape='ellipse', style='filled', fillcolor='orange')\n",
    "    s3.node('S3_RESULT', 'Stage 3 Results\\n(stage=3, overrides low-confidence S2 results)', shape='box', style='filled', fillcolor='lightgreen')\n",
    "\n",
    "# ========== Final Merge ==========\n",
    "dot.node('MERGE', 'Merge All Stages:\\nStage 1 + Stage 2 (filtered) + Stage 3', shape='box', style='filled', fillcolor='lightgreen')\n",
    "dot.node('OUTPUT', 'Final Output DataFrame\\n(with stage column: 1, 2, or 3)', shape='box', style='filled', fillcolor='green')\n",
    "\n",
    "# ========== Flow Edges ==========\n",
    "# Input to Stage 1\n",
    "dot.edge('A', 'S1_EXACT')\n",
    "\n",
    "# Stage 1 flow\n",
    "dot.edge('S1_EXACT', 'S1_MATCHED', label='Yes')\n",
    "dot.edge('S1_EXACT', 'S2_ABBR', label='No\\n(unmatched queries)')\n",
    "\n",
    "# Stage 2 flow\n",
    "dot.edge('S2_ABBR', 'S2_STRATEGY')\n",
    "dot.edge('S2_STRATEGY', 'S2_FAISS')\n",
    "dot.edge('S2_FAISS', 'S2_BUILD', label='Not Exist')\n",
    "dot.edge('S2_FAISS', 'S2_CHECK', label='Exist')\n",
    "dot.edge('S2_BUILD', 'S2_ENCODE')\n",
    "dot.edge('S2_CHECK', 'S2_ENCODE')\n",
    "dot.edge('S2_ENCODE', 'S2_SEARCH')\n",
    "dot.edge('S2_SEARCH', 'S2_RESULT')\n",
    "\n",
    "# Stage 2 to Stage 3 decision\n",
    "dot.edge('S2_RESULT', 'S3_CHECK')\n",
    "dot.edge('S3_CHECK', 'S3_SKIP', label='No / s3_strategy=None')\n",
    "dot.edge('S3_CHECK', 'S3_ABBR', label='Yes')\n",
    "\n",
    "# Stage 3 flow\n",
    "dot.edge('S3_ABBR', 'S3_STRATEGY')\n",
    "dot.edge('S3_STRATEGY', 'S3_FAISS')\n",
    "dot.edge('S3_FAISS', 'S3_BUILD', label='Not Exist')\n",
    "dot.edge('S3_FAISS', 'S3_CHECK_DB', label='Exist')\n",
    "dot.edge('S3_BUILD', 'S3_ENCODE_RAG', label='RAG')\n",
    "dot.edge('S3_BUILD', 'S3_ENCODE_RAGBIE', label='RAG_BIE')\n",
    "dot.edge('S3_CHECK_DB', 'S3_ENCODE_RAG', label='RAG')\n",
    "dot.edge('S3_CHECK_DB', 'S3_ENCODE_RAGBIE', label='RAG_BIE')\n",
    "dot.edge('S3_ENCODE_RAG', 'S3_SEARCH')\n",
    "dot.edge('S3_ENCODE_RAGBIE', 'S3_SEARCH')\n",
    "dot.edge('S3_SEARCH', 'S3_RESULT')\n",
    "\n",
    "# Merge all stages\n",
    "dot.edge('S1_MATCHED', 'MERGE')\n",
    "dot.edge('S2_RESULT', 'MERGE', label='(if S3 skipped)')\n",
    "dot.edge('S3_SKIP', 'MERGE')\n",
    "dot.edge('S3_RESULT', 'MERGE')\n",
    "\n",
    "# Final output\n",
    "dot.edge('MERGE', 'OUTPUT')\n",
    "\n",
    "# Note\n",
    "dot.node('NOTE', 'Note:\\n• Stage 1: Exact matching (always runs)\\n• Stage 2: LM/ST transformer matching (always runs)\\n• Stage 3: RAG/RAG_BIE context-based matching\\n  (only for queries with top1_score < s3_threshold)\\n• RAG_BIE enriches queries before encoding', \n",
    "         shape='note', style='dashed', fontsize='9', fontcolor='slategray')\n",
    "dot.edge('OUTPUT', 'NOTE', style='invis')\n",
    "\n",
    "# Render\n",
    "dot.render('ontology_mapping_3stage_workflow', format='png', cleanup=True)\n",
    "print(\"Flowchart saved as 'ontology_mapping_3stage_workflow.png'\")"
   ]
  }
 ],
 "metadata": {
  "kernelspec": {
   "display_name": "demo_env",
   "language": "python",
   "name": "python3"
  },
  "language_info": {
   "codemirror_mode": {
    "name": "ipython",
    "version": 3
   },
   "file_extension": ".py",
   "mimetype": "text/x-python",
   "name": "python",
   "nbconvert_exporter": "python",
   "pygments_lexer": "ipython3",
   "version": "3.10.18"
  }
 },
 "nbformat": 4,
 "nbformat_minor": 5
}
